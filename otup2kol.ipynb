{
 "cells": [
  {
   "cell_type": "code",
   "execution_count": 1,
   "metadata": {},
   "outputs": [],
   "source": [
    "import numpy as np\n",
    "from sympy import *\n",
    "import control as ct"
   ]
  },
  {
   "cell_type": "code",
   "execution_count": 2,
   "metadata": {},
   "outputs": [],
   "source": [
    "A = np.matrix([[4,3,1],[-2,9,-1],[2,-2,0]])\n",
    "B = np.matrix([[1],[1],[0]])\n",
    "C = np.matrix([[1,0,0]])\n",
    "D = np.matrix([[0]])"
   ]
  },
  {
   "cell_type": "code",
   "execution_count": 3,
   "metadata": {},
   "outputs": [],
   "source": [
    "sys = ct.ss(A,B,C,D)\n",
    "#1 KRITERIJ SA SVOJSTVENIM VEKTORIMA ZA OSMOTRIVOST"
   ]
  },
  {
   "cell_type": "code",
   "execution_count": 4,
   "metadata": {},
   "outputs": [
    {
     "name": "stdout",
     "output_type": "stream",
     "text": [
      "[[0.70710678]]\n",
      "[[0.76009646]]\n",
      "[[-0.24306108]]\n"
     ]
    }
   ],
   "source": [
    "azad = np.linalg.eig(A)[1]\n",
    "v1 = azad[:,0]\n",
    "v2 = azad[:,1]\n",
    "v3 = azad[:,2]\n",
    "for i in range (0,3):\n",
    "    print(C*azad[:,i])"
   ]
  },
  {
   "cell_type": "code",
   "execution_count": 5,
   "metadata": {},
   "outputs": [
    {
     "name": "stdout",
     "output_type": "stream",
     "text": [
      "[[-0.11840056]]\n",
      "[[-1.33226763e-15]]\n",
      "[[2.22044605e-16]]\n"
     ]
    }
   ],
   "source": [
    "#1 KRITERIJ SA SVOJSTVENIM VEKTORIMA ZA UPRAVLJIVOST\n",
    "At = A.T\n",
    "azad2 = np.linalg.eig(At)[1]\n",
    "v1 = azad[:,0]\n",
    "v2 = azad[:,1]\n",
    "v3 = azad[:,2]\n",
    "for i in range (0,3):\n",
    "    print(B.T*azad2[:,i])"
   ]
  },
  {
   "cell_type": "code",
   "execution_count": 6,
   "metadata": {},
   "outputs": [],
   "source": [
    "#2 rang([A-LambdaI],[B]). PBH TEST ZA UPRAVLJOVST"
   ]
  },
  {
   "cell_type": "code",
   "execution_count": 7,
   "metadata": {},
   "outputs": [
    {
     "name": "stdout",
     "output_type": "stream",
     "text": [
      "3\n",
      "3\n",
      "2\n"
     ]
    }
   ],
   "source": [
    "bzad = np.linalg.eig(A)[0]\n",
    "\n",
    "lambda1 = bzad[0]\n",
    "lambda2 = bzad[1]\n",
    "lambda3 = bzad[2]\n",
    "for i in range (0,3):\n",
    "    print(np.linalg.matrix_rank(np.block([[A-bzad[i]*np.identity(3),B]])))\n",
    "    \n",
    "# za jednu svojstvenu vrijednost PBH matrica nije punog ranga -> sustav nije upravljiv"
   ]
  },
  {
   "cell_type": "code",
   "execution_count": 8,
   "metadata": {},
   "outputs": [
    {
     "name": "stdout",
     "output_type": "stream",
     "text": [
      "3\n",
      "3\n",
      "3\n"
     ]
    }
   ],
   "source": [
    "#2 rang([A-LambdaI],[C]). PBH TEST ZA OSMOTRIVOST\n",
    "bzad2 = np.linalg.eig(A)[0]\n",
    "lambda1 = bzad2[0]\n",
    "lambda2 = bzad2[1]\n",
    "lambda3 = bzad2[2]\n",
    "for i in range (0,3):\n",
    "    print(np.linalg.matrix_rank(np.block([[A-bzad2[i]*np.identity(3)],[C]])))"
   ]
  },
  {
   "cell_type": "code",
   "execution_count": 9,
   "metadata": {},
   "outputs": [
    {
     "name": "stdout",
     "output_type": "stream",
     "text": [
      "6.999999999999964 6.60555127546402 -0.6055512754639898\n"
     ]
    }
   ],
   "source": [
    "#STABILNOST\n",
    "print(lambda1,lambda2,lambda3)"
   ]
  },
  {
   "cell_type": "code",
   "execution_count": 10,
   "metadata": {},
   "outputs": [],
   "source": [
    "# sustav nije stabilan zato što ima sv vrijednosti veće od 0"
   ]
  },
  {
   "cell_type": "code",
   "execution_count": 11,
   "metadata": {},
   "outputs": [],
   "source": [
    "#STABILIZABILNOST ZA SVOJSTVENE VRIJEDNOSTI KOJE SU VEĆE OD 0"
   ]
  },
  {
   "cell_type": "code",
   "execution_count": 12,
   "metadata": {},
   "outputs": [
    {
     "name": "stdout",
     "output_type": "stream",
     "text": [
      "3\n"
     ]
    }
   ],
   "source": [
    "print(np.linalg.matrix_rank(np.block([[A-lambda1*np.identity(3),B]])))"
   ]
  },
  {
   "cell_type": "code",
   "execution_count": 13,
   "metadata": {},
   "outputs": [
    {
     "name": "stdout",
     "output_type": "stream",
     "text": [
      "3\n"
     ]
    }
   ],
   "source": [
    "print(np.linalg.matrix_rank(np.block([[A-lambda2*np.identity(3),B]])))"
   ]
  },
  {
   "cell_type": "code",
   "execution_count": 14,
   "metadata": {},
   "outputs": [],
   "source": [
    "# sustav je stabilizabilan zato što je za ove 2 vrijednosti koje su veće od 0 matrica PBH punog ranga"
   ]
  }
 ],
 "metadata": {
  "kernelspec": {
   "display_name": "Python 3 (ipykernel)",
   "language": "python",
   "name": "python3"
  },
  "language_info": {
   "codemirror_mode": {
    "name": "ipython",
    "version": 3
   },
   "file_extension": ".py",
   "mimetype": "text/x-python",
   "name": "python",
   "nbconvert_exporter": "python",
   "pygments_lexer": "ipython3",
   "version": "3.10.11"
  }
 },
 "nbformat": 4,
 "nbformat_minor": 4
}
