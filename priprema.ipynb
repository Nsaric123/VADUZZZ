{
 "cells": [
  {
   "cell_type": "code",
   "execution_count": 1,
   "metadata": {},
   "outputs": [],
   "source": [
    "import numpy as np\n",
    "import scipy.linalg as spla\n",
    "import scipy.sparse as sps\n",
    "import matplotlib.pyplot as plt\n",
    "import os\n",
    "import math\n",
    "import cmath\n",
    "from sympy import *\n",
    "import control as ct\n",
    "from control.matlab import *\n",
    "import scipy.integrate as integrate\n",
    "from scipy.integrate import quad\n",
    "from numpy.linalg import eig, svd, det\n",
    "from scipy.integrate import solve_ivp"
   ]
  },
  {
   "cell_type": "code",
   "execution_count": 2,
   "metadata": {
    "tags": []
   },
   "outputs": [],
   "source": [
    "#Simboli\n",
    "#m, k, h, x1, x2, u = symbols('m k h x1 x2 u')"
   ]
  },
  {
   "cell_type": "code",
   "execution_count": 3,
   "metadata": {
    "tags": []
   },
   "outputs": [],
   "source": [
    "#izracunavanje Jacobian matrice\n",
    "#A = f.jacobian(X)\n",
    "#matrica A gdje spremamo rezultat, f funkcija po kojoj se radi Jacobian i X po kojim varijablama"
   ]
  },
  {
   "cell_type": "code",
   "execution_count": 4,
   "metadata": {
    "tags": []
   },
   "outputs": [],
   "source": [
    "#substitucija varijable za broj\n",
    "# A.subs(varijabla, vrijednost)\n",
    "# A.subs([(varijabla, vrijednost), (varijabla, vrijednost)])"
   ]
  },
  {
   "cell_type": "code",
   "execution_count": 5,
   "metadata": {
    "tags": []
   },
   "outputs": [],
   "source": [
    "#izrada funkcije prijenosa\n",
    "#zadamo \n",
    "#simbol s = symbols('s')\n",
    "#tr_fun = po formli C * (sI - A)^(-1) * B + D\n",
    "#ispisemo"
   ]
  },
  {
   "cell_type": "code",
   "execution_count": 6,
   "metadata": {
    "tags": []
   },
   "outputs": [],
   "source": [
    "#zadavanje sustava realizacijom\n",
    "#ss = state space\n",
    "#sustav = ct.ss(A, B, C, D)\n",
    "#damo matrice po formuli kako idu \n",
    "# x' = Ax + Bu\n",
    "# y = Cx + Du"
   ]
  },
  {
   "cell_type": "code",
   "execution_count": 7,
   "metadata": {
    "tags": []
   },
   "outputs": [],
   "source": [
    "#ako imamo sustav mozemo i funkciju prijenosa napraviti\n",
    "# tf = transfer function od sustava (ovdje funkcije je normalizirana pa moze drukcije izgledati)\n",
    "# tr_fun2 = ct.tf(sustav)"
   ]
  },
  {
   "cell_type": "code",
   "execution_count": 14,
   "metadata": {
    "tags": []
   },
   "outputs": [],
   "source": [
    "# postoji napredbe simplify(izraz)\n",
    "# da nam pojednostavi nekad izraze"
   ]
  },
  {
   "cell_type": "code",
   "execution_count": 8,
   "metadata": {
    "tags": []
   },
   "outputs": [],
   "source": [
    "#matrica eksp funkcija\n",
    "# t = symbols('t')\n",
    "# napravimo matricu tA = t * A\n",
    "#svakom se elementu doda t parametar\n",
    "# tA.exp() daje matricnu e^(tA)"
   ]
  },
  {
   "cell_type": "code",
   "execution_count": 9,
   "metadata": {
    "tags": []
   },
   "outputs": [],
   "source": [
    "#Jordanova forma (korisno)\n",
    "# A se moze napisati kao A = P * J * P^-1\n",
    "# gdje je J Jordanova forma matrice A\n",
    "# P, J = A.jordan_form()\n",
    "# tJ = t * J\n",
    "# (P) * Jt.exp() * (P **(-1)) # e^tA"
   ]
  },
  {
   "cell_type": "code",
   "execution_count": 10,
   "metadata": {
    "tags": []
   },
   "outputs": [],
   "source": [
    "#inverzna laplaceova transformacija\n",
    "#uzmemo A izracunamo (sI - A)^-1 i po toj matrici radimo inverznu laplaceovu transformaciju\n",
    "\n",
    "#def invL(F):\n",
    "#    return inverse_laplace_transform(Matrix((s * eye(F.shape[0]) - F) ** (-1)), s, t)\n",
    "#zadnja dva parametra govore iz koje u koju varijablu idemo\n",
    "#iz s varijable prelazimo na t jer je onaj intergal po t"
   ]
  },
  {
   "cell_type": "code",
   "execution_count": 17,
   "metadata": {
    "tags": []
   },
   "outputs": [],
   "source": [
    "#stabilnost i rjesenje sustava\n",
    "#stabilnost\n",
    "#3 slucaja\n",
    "#stabilan = svi realni dijelovi svih nultocaka sv polinoma su < 0 \n",
    "#rubno stabilan = ako imamo koju nultocku koja je 0 onda gledamo njenu kratnost (koliko se puta pojavljuje)\n",
    "#                 ako je kratnost = 1 odnosno pojavljuje se 1 onda je sustav rubno stabilan \n",
    "#nestabilan = ako imamo barem 1 nultocku ciji realni dio je > 0 odmah je nestabilan\n",
    "#             ako je nultocka 0 kratnost > 1 onda je odmah nestabilan isto\n",
    "#stabilnost sustava mozemo lako dobiti/iscitati \n",
    "#1. nacin iz matrice J \n",
    "#2. nacin preko sv vrijednosti\n",
    "#3. nacin preko Lyapunovljeve jednadzbe\n",
    "#2. A.eigenvals() = ispisuje matricu sv vrijednosti odnosno nultockaa polinoma\n",
    "#napraviti matricu P simetricnu -> sustav je stabilan jer postoji takva marica koja je poz. definitina\n",
    "#Teorem 2.1. Matrica A je pozitivno definitna ako i samo ako su joj sve svojstvene vrijednosti\n",
    "#pozitivne. (naso na mathos zavrsnom radu nekom loool)\n",
    "#P = Matrix(lyap(Transpose(A), eye(4))) izracunamo P\n",
    "#eye 4 je jedinicna matrica 4x4 ubiti trebalo bi ici A.shape[0] za opcenito\n",
    "# P.eigenvals() i tjt\n",
    "#iscitamo\n",
    "#matrica P ima svojstva A.T * P + P * A = I"
   ]
  },
  {
   "cell_type": "code",
   "execution_count": 13,
   "metadata": {
    "tags": []
   },
   "outputs": [],
   "source": [
    "#rjesenje sustava\n",
    "#zadamo rjesenje x0 i u koji nam moraju biti dani\n",
    "#generiramo vremenski interval\n",
    "#pogledamo za svaki t iz intervala rjesenje i gledamo ponasanje grafa\n",
    "#pr\n",
    "# x0 = [10, 0]\n",
    "# u = 0.5\n",
    "# tt = np.arrange(0, 140, 0.1) generira t-ove 0-140 sa razmakom 0.1 \n",
    "# kako bi dobili za plotanje\n",
    "# T, yout = ct.forced_response(sutav, vrijeme, ulaz, pocetni uvjet)\n",
    "# T, yout = ct.forced_response(sys, tt, u, x0)\n",
    "#plotanje\n",
    "# plt.plot(T.T, yout.T)\n",
    "# stabilni sustavi \"konvergiraju\" ka nekoj vrijednosti konacnoj\n",
    "# nestabilni ne konkvergiraju oni eksplodiraju\n",
    "# rubno stabilni oni imaju ponasanje poput amplitude zovu se rubno stabilni jer\n",
    "# mozemo ih \"ograniciti\" u smislu visine amplitude ali oni se ne izravnaju nikad tj ne kvg"
   ]
  },
  {
   "cell_type": "code",
   "execution_count": 19,
   "metadata": {
    "tags": []
   },
   "outputs": [],
   "source": [
    "#upravljivost sustava\n",
    "# ako zelimo provjeriti je li sustav upravljiv\n",
    "# moramo napraviti control maxtrix i njoj izracunati rang\n",
    "# za control matrix potrebne su nam A i B matrice\n",
    "# Cm = ct.ctrb(A, B)\n",
    "# najlaksa provjera upravljivosti preko SVD dekompozicije\n",
    "# svd => singluar value decomposition\n",
    "# U * sigma * V.T = Cm\n",
    "# U, sigma, Vt = svd(Cm)\n",
    "# odavdje samo uzmemo sigma\n",
    "# i provjerimo koliko vrijednosti ima treba ih biti n \n",
    "# ako ih je manje onda matrica nije punog ranga odnosno uvijek ce ih biti n \n",
    "#bitno je da nisu 0\n",
    "#kako to detektirati\n",
    "#mozemo isprintati sigma pa gledati, no najbolje je \n",
    "#plt.semilogy(sigma) plotati tocke i ako uopcimo da negdje imamo znacajan pad onda znamo da je ta vrijednost 0 \n",
    "#a nije neki mali broj\n",
    "# ako je matrica upravljivosti punog ranga onda je upravljiv sustav"
   ]
  },
  {
   "cell_type": "code",
   "execution_count": 201,
   "metadata": {
    "tags": []
   },
   "outputs": [
    {
     "data": {
      "text/latex": [
       "$\\displaystyle \\left[\\begin{matrix}-6 & 0 & 0\\\\0 & - i & 0\\\\0 & 0 & i\\end{matrix}\\right]$"
      ],
      "text/plain": [
       "Matrix([\n",
       "[-6,  0, 0],\n",
       "[ 0, -I, 0],\n",
       "[ 0,  0, I]])"
      ]
     },
     "execution_count": 201,
     "metadata": {},
     "output_type": "execute_result"
    }
   ],
   "source": [
    "#od funkcije prijenosa do sustava\n",
    "# dobijemo funkciju prijenosa \n",
    "#razdvojimo na brojnik i nazivnik\n",
    "# i napravimo matrice brojnika i nazivnika\n",
    "#odnosno koef pisemo u matrice redom\n",
    "#pogledati vjezbe7 zadnji primjer\n",
    "#pozvati tf i da ju dobijemo\n",
    "# i ako ct.ss pozovemo na funkciji prijenosa dobijemo state space sustav\n",
    "#poz\n",
    "s = symbols('s')\n",
    "gg = [1, 7, 4, 8]\n",
    "dd = [1, 6, 1, 6]\n",
    "tf_fun = ct.tf(gg, dd)\n",
    "tf_fun\n",
    "\n",
    "sys1 = ct.ss(tf_fun)\n",
    "sys1\n",
    "A = Matrix([[-6, -1, -6], \n",
    "            [1, 0, 0],\n",
    "            [0, 1, 0]])\n",
    "P, J = A.jordan_form()\n",
    "J\n"
   ]
  },
  {
   "cell_type": "code",
   "execution_count": 44,
   "metadata": {
    "tags": []
   },
   "outputs": [],
   "source": [
    "m, c = symbols('m c')\n",
    "\n",
    "A = Matrix([[0, 1],\n",
    "            [1 / m, -c / m]])\n",
    "\n",
    "B = Matrix([[0],\n",
    "           [1 / m]])\n",
    "\n",
    "C = Matrix([[1, 0]])"
   ]
  },
  {
   "cell_type": "code",
   "execution_count": 47,
   "metadata": {
    "tags": []
   },
   "outputs": [],
   "source": [
    "A1 = A.subs([(m, 2), (c, 2)])\n",
    "B1 = B.subs(m, 2)"
   ]
  },
  {
   "cell_type": "code",
   "execution_count": 50,
   "metadata": {
    "tags": []
   },
   "outputs": [
    {
     "data": {
      "text/latex": [
       "$$\\frac{0.5}{s^2 + s - 0.5}$$"
      ],
      "text/plain": [
       "TransferFunction(array([0.5]), array([ 1. ,  1. , -0.5]))"
      ]
     },
     "execution_count": 50,
     "metadata": {},
     "output_type": "execute_result"
    }
   ],
   "source": [
    "zad1_ss = ct.ss(A1, B1, C, D)\n",
    "zad1_tf = ct.tf(zad1_ss)\n",
    "zad1_tf"
   ]
  },
  {
   "cell_type": "code",
   "execution_count": 65,
   "metadata": {
    "tags": []
   },
   "outputs": [
    {
     "data": {
      "text/latex": [
       "$\\displaystyle \\left[\\begin{matrix}\\frac{1}{s^{2} - 4 s + 3}\\end{matrix}\\right]$"
      ],
      "text/plain": [
       "Matrix([[1/(s**2 - 4*s + 3)]])"
      ]
     },
     "execution_count": 65,
     "metadata": {},
     "output_type": "execute_result"
    }
   ],
   "source": [
    "A = Matrix([[3, 1, 2], \n",
    "            [0, 1, 2],\n",
    "            [0, 0, 2]])\n",
    "B = Matrix([[1],\n",
    "            [-1],\n",
    "            [0]])\n",
    "C = Matrix([[1, 1, 0]])\n",
    "D = 0\n",
    "\n",
    "sys = ct.ss(A, B, C, D)\n",
    "tf_sys = ct.tf(sys)\n",
    "s = symbols('s')\n",
    "\n",
    "simplify(C * ((s * eye(3) - A) ** (-1)) * B)"
   ]
  },
  {
   "cell_type": "code",
   "execution_count": 66,
   "metadata": {
    "tags": []
   },
   "outputs": [
    {
     "data": {
      "text/latex": [
       "$\\displaystyle \\left[\\begin{matrix}\\frac{1}{s^{2} - 4 s + 3}\\end{matrix}\\right]$"
      ],
      "text/plain": [
       "Matrix([[1/(s**2 - 4*s + 3)]])"
      ]
     },
     "execution_count": 66,
     "metadata": {},
     "output_type": "execute_result"
    }
   ],
   "source": [
    "A = Matrix([[3, 1, 2], \n",
    "            [0, 1, 2],\n",
    "            [0, 0, -2]])\n",
    "B = Matrix([[1],\n",
    "            [-1],\n",
    "            [0]])\n",
    "C = Matrix([[1, 1, 0]])\n",
    "D = 0\n",
    "\n",
    "sys = ct.ss(A, B, C, D)\n",
    "tf_sys = ct.tf(sys)\n",
    "s = symbols('s')\n",
    "\n",
    "simplify(C * ((s * eye(3) - A) ** (-1)) * B)"
   ]
  },
  {
   "cell_type": "code",
   "execution_count": 72,
   "metadata": {
    "tags": []
   },
   "outputs": [
    {
     "data": {
      "text/latex": [
       "$\\displaystyle \\left[\\begin{matrix}2 - e^{- t} & -1 + e^{- t}\\\\2 - 2 e^{- t} & -1 + 2 e^{- t}\\end{matrix}\\right]$"
      ],
      "text/plain": [
       "Matrix([\n",
       "[  2 - exp(-t),   -1 + exp(-t)],\n",
       "[2 - 2*exp(-t), -1 + 2*exp(-t)]])"
      ]
     },
     "execution_count": 72,
     "metadata": {},
     "output_type": "execute_result"
    }
   ],
   "source": [
    "A = Matrix([[1, -1], \n",
    "            [2, -2]])\n",
    "t = symbols('t')\n",
    "(t * A).exp()"
   ]
  },
  {
   "cell_type": "code",
   "execution_count": 77,
   "metadata": {
    "tags": []
   },
   "outputs": [],
   "source": [
    "#Sustav\n",
    "A = Matrix([[-1, -2, 2], \n",
    "            [-1 , -3, 2],\n",
    "            [-2, -4, 3]])\n",
    "B = Matrix([[0 ,  0],\n",
    "            [-1, 1],\n",
    "            [-1, 1]])\n",
    "C = Matrix([[1, 1, 0],\n",
    "            [0, 1, 1]])\n",
    "D = 0"
   ]
  },
  {
   "cell_type": "code",
   "execution_count": 127,
   "metadata": {
    "tags": []
   },
   "outputs": [],
   "source": [
    "#Sustav\n",
    "A = Matrix([[-1, -2, 2], \n",
    "            [-1, -3, 2],\n",
    "            [-2, -4, 3]])\n",
    "B = Matrix([[0, 0],\n",
    "            [-1, 1],\n",
    "            [-1, 1]])\n",
    "\n",
    "C = Matrix([[1, 1, 0],\n",
    "            [0, 1, 1]])\n",
    "D = 0"
   ]
  },
  {
   "cell_type": "code",
   "execution_count": 128,
   "metadata": {
    "tags": []
   },
   "outputs": [
    {
     "data": {
      "text/latex": [
       "$\\displaystyle \\left[\\begin{matrix}- \\frac{1}{s + 1} & \\frac{1}{s + 1}\\\\- \\frac{2}{s + 1} & \\frac{2}{s + 1}\\end{matrix}\\right]$"
      ],
      "text/plain": [
       "Matrix([\n",
       "[-1/(s + 1), 1/(s + 1)],\n",
       "[-2/(s + 1), 2/(s + 1)]])"
      ]
     },
     "execution_count": 128,
     "metadata": {},
     "output_type": "execute_result"
    }
   ],
   "source": [
    "#a - funkcija prijenosa\n",
    "sys = ct.ss(A, B, C, D)\n",
    "sys\n",
    "s = symbols('s')\n",
    "\n",
    "simplify(C * ((s * eye(3) - A) ** (-1)) * B)"
   ]
  },
  {
   "cell_type": "code",
   "execution_count": 129,
   "metadata": {
    "tags": []
   },
   "outputs": [
    {
     "name": "stdout",
     "output_type": "stream",
     "text": [
      "{-1: 1, -I: 1, I: 1}\n"
     ]
    },
    {
     "data": {
      "text/latex": [
       "$\\displaystyle \\left[\\begin{matrix}-1 & 0 & 0\\\\0 & - i & 0\\\\0 & 0 & i\\end{matrix}\\right]$"
      ],
      "text/plain": [
       "Matrix([\n",
       "[-1,  0, 0],\n",
       "[ 0, -I, 0],\n",
       "[ 0,  0, I]])"
      ]
     },
     "execution_count": 129,
     "metadata": {},
     "output_type": "execute_result"
    }
   ],
   "source": [
    "#b - stabilnost sustava\n",
    "P, J = A.jordan_form()\n",
    "print(A.eigenvals())\n",
    "J\n",
    "#ovako zadan sustav je rubno stabilan"
   ]
  },
  {
   "cell_type": "code",
   "execution_count": 130,
   "metadata": {
    "tags": []
   },
   "outputs": [
    {
     "data": {
      "text/plain": [
       "[<matplotlib.lines.Line2D at 0x20a21b4bc40>]"
      ]
     },
     "execution_count": 130,
     "metadata": {},
     "output_type": "execute_result"
    },
    {
     "data": {
      "image/png": "[encoded data removed]",
      "text/plain": [
       "<Figure size 640x480 with 1 Axes>"
      ]
     },
     "metadata": {},
     "output_type": "display_data"
    }
   ],
   "source": [
    "Cm = ct.ctrb(A, B)\n",
    "U, sigma, Vt = svd(Cm)\n",
    "sigma\n",
    "plt.semilogy(sigma)\n",
    "#sustav ocito nije upravljiv jer rang 1 umjesto 3"
   ]
  },
  {
   "cell_type": "code",
   "execution_count": 166,
   "metadata": {
    "tags": []
   },
   "outputs": [],
   "source": [
    "#uvjeti\n",
    "x0 = [0, 1, 0]\n",
    "u0 = np.array([[1, 2] for i in range(100)])\n",
    "tt = np.arange(0, 100, 1)"
   ]
  },
  {
   "cell_type": "code",
   "execution_count": 167,
   "metadata": {
    "tags": []
   },
   "outputs": [],
   "source": [
    "T, yout = ct.forced_response(sys, T = tt, U = u, X0 = x0)"
   ]
  },
  {
   "cell_type": "code",
   "execution_count": 168,
   "metadata": {
    "tags": []
   },
   "outputs": [
    {
     "data": {
      "text/plain": [
       "[<matplotlib.lines.Line2D at 0x20a24152140>,\n",
       " <matplotlib.lines.Line2D at 0x20a241531c0>]"
      ]
     },
     "execution_count": 168,
     "metadata": {},
     "output_type": "execute_result"
    },
    {
     "data": {
      "image/png": "[encoded data removed]",
      "text/plain": [
       "<Figure size 640x480 with 1 Axes>"
      ]
     },
     "metadata": {},
     "output_type": "display_data"
    }
   ],
   "source": [
    "plt.plot(T.T,yout.T)"
   ]
  },
  {
   "cell_type": "code",
   "execution_count": 169,
   "metadata": {
    "tags": []
   },
   "outputs": [],
   "source": [
    "#Sustav\n",
    "A = Matrix([[-1, 0, 1],\n",
    "            [3, -2, 0],\n",
    "            [0, 0, 0]])\n",
    "B = Matrix([[-1],\n",
    "            [0],\n",
    "            [1]])\n",
    "C = Matrix([[-1, 0, 1]])\n",
    "D = 0"
   ]
  },
  {
   "cell_type": "code",
   "execution_count": 170,
   "metadata": {
    "tags": []
   },
   "outputs": [
    {
     "data": {
      "text/latex": [
       "$$\\frac{2 s^2 + 4 s}{s^3 + 3 s^2 + 2 s}$$"
      ],
      "text/plain": [
       "TransferFunction(array([2., 4., 0.]), array([1., 3., 2., 0.]))"
      ]
     },
     "execution_count": 170,
     "metadata": {},
     "output_type": "execute_result"
    }
   ],
   "source": [
    "#a\n",
    "zad5_sys = ct.ss(A, B, C, D)\n",
    "zad5_tf = ct.tf(zad5_sys)\n",
    "zad5_tf"
   ]
  },
  {
   "cell_type": "code",
   "execution_count": 173,
   "metadata": {
    "tags": []
   },
   "outputs": [
    {
     "data": {
      "text/plain": [
       "{0: 1, -1: 1, -2: 1}"
      ]
     },
     "execution_count": 173,
     "metadata": {},
     "output_type": "execute_result"
    }
   ],
   "source": [
    "#b\n",
    "P, J = A.jordan_form()\n",
    "J\n",
    "A.eigenvals()\n",
    "#sustav je stabilan vidi se iz nultocki vektora ili iz Jordanove forme matrice A"
   ]
  },
  {
   "cell_type": "code",
   "execution_count": 176,
   "metadata": {
    "tags": []
   },
   "outputs": [
    {
     "data": {
      "text/plain": [
       "array([12.60952987,  1.84404826,  0.77410759])"
      ]
     },
     "execution_count": 176,
     "metadata": {},
     "output_type": "execute_result"
    }
   ],
   "source": [
    "#c\n",
    "Cm = ct.ctrb(A, B)\n",
    "U, sigma, Vt = svd(Cm)\n",
    "sigma\n",
    "#sustav je upravljiv jer je rang kontrolne matrice 3 = n."
   ]
  },
  {
   "cell_type": "code",
   "execution_count": 180,
   "metadata": {
    "tags": []
   },
   "outputs": [
    {
     "data": {
      "text/plain": [
       "[<matplotlib.lines.Line2D at 0x20a26dd8ca0>]"
      ]
     },
     "execution_count": 180,
     "metadata": {},
     "output_type": "execute_result"
    },
    {
     "data": {
      "image/png": "[encoded data removed]",
      "text/plain": [
       "<Figure size 640x480 with 1 Axes>"
      ]
     },
     "metadata": {},
     "output_type": "display_data"
    }
   ],
   "source": [
    "#uvjeti\n",
    "x0 = [1, 1, 1]\n",
    "u = 1\n",
    "tt = np.arange(0, 1000, 1)\n",
    "\n",
    "#izracun\n",
    "T, yout = ct.forced_response(zad5_sys, tt, u, x0)\n",
    "\n",
    "#plot\n",
    "plt.plot(T.T, yout.T)\n",
    "\n",
    "#graf potvrdjuje da je sustav stabilan nakon nekog vremena jednostavno se stabilizira\n",
    "#postaje graf y = 2"
   ]
  },
  {
   "cell_type": "code",
   "execution_count": 2,
   "metadata": {
    "tags": []
   },
   "outputs": [
    {
     "data": {
      "text/latex": [
       "$$\\begin{bmatrix}\\frac{4 s - 10}{2 s + 1}&\\frac{3}{s + 2}\\\\\\frac{1}{2 s^2 + 5 s + 2}&\\frac{s + 1}{s^2 + 4 s + 4}\\\\ \\end{bmatrix}$$"
      ],
      "text/plain": [
       "TransferFunction([[array([  4., -10.]), array([3.])], [array([1.]), array([1., 1.])]], [[array([2., 1.]), array([1., 2.])], [array([2., 5., 2.]), array([1., 4., 4.])]])"
      ]
     },
     "execution_count": 2,
     "metadata": {},
     "output_type": "execute_result"
    }
   ],
   "source": [
    "num = [[[4., -10.], [0., 3.]], \n",
    "       [[0., 1.], [1., 1.]] ]\n",
    "den = [[[0., 2., 1.], [0., 1., 2.]], \n",
    "       [[2., 5., 2.], [1., 4., 4.]]]\n",
    "sys_tf = tf(num, den)\n",
    "# print(sys_tf)\n",
    "sys_tf"
   ]
  },
  {
   "cell_type": "code",
   "execution_count": 3,
   "metadata": {
    "tags": []
   },
   "outputs": [
    {
     "ename": "TypeError",
     "evalue": "No support for MIMO without slycot",
     "output_type": "error",
     "traceback": [
      "\u001b[1;31m---------------------------------------------------------------------------\u001b[0m",
      "\u001b[1;31mModuleNotFoundError\u001b[0m                       Traceback (most recent call last)",
      "File \u001b[1;32m~\\Desktop\\OTUP kolokvij\\otuppriprema.env\\lib\\site-packages\\control\\statesp.py:1556\u001b[0m, in \u001b[0;36m_convert_to_statespace\u001b[1;34m(sys)\u001b[0m\n\u001b[0;32m   1555\u001b[0m \u001b[38;5;28;01mtry\u001b[39;00m:\n\u001b[1;32m-> 1556\u001b[0m     \u001b[38;5;28;01mfrom\u001b[39;00m \u001b[38;5;21;01mslycot\u001b[39;00m \u001b[38;5;28;01mimport\u001b[39;00m td04ad\n\u001b[0;32m   1558\u001b[0m     \u001b[38;5;66;03m# Change the numerator and denominator arrays so that the transfer\u001b[39;00m\n\u001b[0;32m   1559\u001b[0m     \u001b[38;5;66;03m# function matrix has a common denominator.\u001b[39;00m\n\u001b[0;32m   1560\u001b[0m     \u001b[38;5;66;03m# matrices are also sized/padded to fit td04ad\u001b[39;00m\n",
      "\u001b[1;31mModuleNotFoundError\u001b[0m: No module named 'slycot'",
      "\nDuring handling of the above exception, another exception occurred:\n",
      "\u001b[1;31mTypeError\u001b[0m                                 Traceback (most recent call last)",
      "Cell \u001b[1;32mIn[3], line 1\u001b[0m\n\u001b[1;32m----> 1\u001b[0m sys \u001b[38;5;241m=\u001b[39m \u001b[43mct\u001b[49m\u001b[38;5;241;43m.\u001b[39;49m\u001b[43mss\u001b[49m\u001b[43m(\u001b[49m\u001b[43msys_tf\u001b[49m\u001b[43m)\u001b[49m\n\u001b[0;32m      2\u001b[0m \u001b[38;5;66;03m# print(sys)\u001b[39;00m\n\u001b[0;32m      3\u001b[0m sys\n",
      "File \u001b[1;32m~\\Desktop\\OTUP kolokvij\\otuppriprema.env\\lib\\site-packages\\control\\iosys.py:2382\u001b[0m, in \u001b[0;36mss\u001b[1;34m(*args, **kwargs)\u001b[0m\n\u001b[0;32m   2378\u001b[0m         warn(\u001b[38;5;124m\"\u001b[39m\u001b[38;5;124mstate labels specified for \u001b[39m\u001b[38;5;124m\"\u001b[39m\n\u001b[0;32m   2379\u001b[0m              \u001b[38;5;124m\"\u001b[39m\u001b[38;5;124mnon-unique state space realization\u001b[39m\u001b[38;5;124m\"\u001b[39m)\n\u001b[0;32m   2381\u001b[0m     \u001b[38;5;66;03m# Create a state space system from an LTI system\u001b[39;00m\n\u001b[1;32m-> 2382\u001b[0m     sys \u001b[38;5;241m=\u001b[39m LinearIOSystem(\u001b[43m_convert_to_statespace\u001b[49m\u001b[43m(\u001b[49m\u001b[43msys\u001b[49m\u001b[43m)\u001b[49m, \u001b[38;5;241m*\u001b[39m\u001b[38;5;241m*\u001b[39mkwargs)\n\u001b[0;32m   2383\u001b[0m \u001b[38;5;28;01melse\u001b[39;00m:\n\u001b[0;32m   2384\u001b[0m     \u001b[38;5;28;01mraise\u001b[39;00m \u001b[38;5;167;01mTypeError\u001b[39;00m(\u001b[38;5;124m\"\u001b[39m\u001b[38;5;124mss(sys): sys must be a StateSpace or \u001b[39m\u001b[38;5;124m\"\u001b[39m\n\u001b[0;32m   2385\u001b[0m                     \u001b[38;5;124m\"\u001b[39m\u001b[38;5;124mTransferFunction object.  It is \u001b[39m\u001b[38;5;132;01m%s\u001b[39;00m\u001b[38;5;124m.\u001b[39m\u001b[38;5;124m\"\u001b[39m \u001b[38;5;241m%\u001b[39m \u001b[38;5;28mtype\u001b[39m(sys))\n",
      "File \u001b[1;32m~\\Desktop\\OTUP kolokvij\\otuppriprema.env\\lib\\site-packages\\control\\statesp.py:1587\u001b[0m, in \u001b[0;36m_convert_to_statespace\u001b[1;34m(sys)\u001b[0m\n\u001b[0;32m   1585\u001b[0m \u001b[38;5;28;01melse\u001b[39;00m:\n\u001b[0;32m   1586\u001b[0m     \u001b[38;5;28;01mif\u001b[39;00m sys\u001b[38;5;241m.\u001b[39mninputs \u001b[38;5;241m!=\u001b[39m \u001b[38;5;241m1\u001b[39m \u001b[38;5;129;01mor\u001b[39;00m sys\u001b[38;5;241m.\u001b[39mnoutputs \u001b[38;5;241m!=\u001b[39m \u001b[38;5;241m1\u001b[39m:\n\u001b[1;32m-> 1587\u001b[0m         \u001b[38;5;28;01mraise\u001b[39;00m \u001b[38;5;167;01mTypeError\u001b[39;00m(\u001b[38;5;124m\"\u001b[39m\u001b[38;5;124mNo support for MIMO without slycot\u001b[39m\u001b[38;5;124m\"\u001b[39m)\n\u001b[0;32m   1589\u001b[0m     \u001b[38;5;66;03m# TODO: do we want to squeeze first and check dimenations?\u001b[39;00m\n\u001b[0;32m   1590\u001b[0m     \u001b[38;5;66;03m# I think this will fail if num and den aren't 1-D after\u001b[39;00m\n\u001b[0;32m   1591\u001b[0m     \u001b[38;5;66;03m# the squeeze\u001b[39;00m\n\u001b[0;32m   1592\u001b[0m     A, B, C, D \u001b[38;5;241m=\u001b[39m \\\n\u001b[0;32m   1593\u001b[0m         sp\u001b[38;5;241m.\u001b[39msignal\u001b[38;5;241m.\u001b[39mtf2ss(squeeze(sys\u001b[38;5;241m.\u001b[39mnum), squeeze(sys\u001b[38;5;241m.\u001b[39mden))\n",
      "\u001b[1;31mTypeError\u001b[0m: No support for MIMO without slycot"
     ]
    }
   ],
   "source": [
    "sys = ct.ss(sys_tf)\n",
    "# print(sys)\n",
    "sys"
   ]
  }
 ],
 "metadata": {
  "kernelspec": {
   "display_name": "Python 3",
   "language": "python",
   "name": "python3"
  },
  "language_info": {
   "codemirror_mode": {
    "name": "ipython",
    "version": 3
   },
   "file_extension": ".py",
   "mimetype": "text/x-python",
   "name": "python",
   "nbconvert_exporter": "python",
   "pygments_lexer": "ipython3",
   "version": "3.8.3"
  }
 },
 "nbformat": 4,
 "nbformat_minor": 5
}
