{
 "cells": [
  {
   "cell_type": "markdown",
   "id": "6fedf39b",
   "metadata": {},
   "source": [
    "# ZA DRUGI KOLOKVIJ"
   ]
  },
  {
   "cell_type": "code",
   "execution_count": 2,
   "id": "af0e0638",
   "metadata": {},
   "outputs": [],
   "source": [
    "import numpy as np\n",
    "import matplotlib.pyplot as plt\n",
    "\n",
    "from sklearn.datasets import load_digits, make_blobs\n",
    "from sklearn.model_selection import train_test_split\n",
    "from sklearn.metrics import accuracy_score, precision_score\n",
    "from sklearn.linear_model import LogisticRegression\n",
    "from sklearn.mixture import GaussianMixture\n",
    "\n",
    "import scipy.stats as stats"
   ]
  },
  {
   "cell_type": "markdown",
   "id": "32ba3df8",
   "metadata": {},
   "source": [
    "## NEURONSKA MREŽA"
   ]
  },
  {
   "cell_type": "markdown",
   "id": "033248c9",
   "metadata": {},
   "source": [
    "Neuronska mreža se sastoji od slojeva, a  svaki sloj sadrži aktivacijske jedinice. **Prvi** i **zadnji** sloj su **ulazni** podaci odnosno, **izlazne** vrijednosti. <br>\n",
    "Svi slojevi između se nazivaju **skrivenim** slojevima. <br> \n",
    "Svaka jedinica u skrivenim slojevima je linearna kombinacija jedinica iz prethodnih slojeva, tako se dobiju potpuno povezani slojevi. Svaka aktivacijska jedinica ima pridruženu aktivacijsku funkciju.<br>\n",
    "\n",
    "Promotrimo malo oznake ulazne jedinice su označene s $x_i$. Zatim težine $\\theta$ između prvog i drugog sloja imaju u ekspontnu $(1)$ što označava između kojih slojeva se nalaze. U indeksu imaju dva broja, npr. $\\theta^{(1)}_{12}$ što označava da je to težina koja ide u **prvu** aktivacijsku jedinicu sljedećeg sloja, a dolazi iz **druge aktivacijske jedinice.** <br>\n",
    "\n",
    "\n",
    "Nadalje, pokazano vam je kako izgleda računanje u neuronskoj mreži. <br>\n",
    "\n",
    "Prateći gornju sliku, uvedemo sljedeće oznake i imamo<br>\n",
    "\n",
    "$z_1^{(2)} = \\theta_{10}^{(1)}x_0 + \\theta_{11}^{(1)}x_1 + \\theta_{12}^{(1)}x_2 + ... + \\theta_{1n}^{(1)}x_n$ <br>\n",
    "$z_2^{(2)} =\\theta_{20}^{(1)}x_0 + \\theta_{21}^{(1)}x_1 + \\theta_{22}^{(1)}x_2 + ... + \\theta_{2n}^{(1)}x_n$<br>\n",
    "\n",
    "$a_1^{(2)} = g(z_1^{(2)})$<br>\n",
    "$a_2^{(2)} = g(z_2^{(2)})$<br>\n",
    "\n",
    "$z_1^{(3)} = \\theta_{10}^{(2)}z_0^{(2)} + \\theta_{11}^{(2)}z_1^{(2)} + \\theta_{12}^{(2)}z_2^{(2)} + ... + \\theta_{1n}^{(2)}z_n^{(2)}$\n",
    "<br>\n",
    "\n",
    "$a_1^{(3)} = g(z_1^{(3)})$\n",
    "<br>\n",
    "\n",
    "itd.\n",
    "\n",
    "\n",
    "\n",
    "Najčešći izbor za aktivacijsku funkciju su \n",
    "\n",
    "- Sigmoid\n",
    "- Tanh\n",
    "- ReLU\n",
    "- identiteta\n",
    "\n",
    "\n",
    "Funkciju sigmoid ste već upoznali. Definirana je sa $$ \\sigma:\\mathbb{R}\\rightarrow[0,1], \\quad \\sigma(x) = \\frac{1}{1+e^{-x}}. $$ \n",
    "\n",
    "Tangens hiperbolni odnosno tanh funkcija je definirana s \n",
    "$$ tanh(x) = \\frac{e^{x}-e^{-x}}{e^{x}+e^{-x}}$$\n",
    "Rectified Linear Unit, odnosno ReLU je  na sljedeći način \n",
    "$$ ReLU: \\mathbb{R} \\rightarrow [0,\\infty], \\; ReLU(x) =  max \\{0,x\\} .$$\n",
    "\n",
    "\n",
    "<br>"
   ]
  },
  {
   "cell_type": "code",
   "execution_count": 3,
   "id": "a6db02fc",
   "metadata": {},
   "outputs": [
    {
     "data": {
      "text/plain": [
       "<matplotlib.collections.PathCollection at 0x21e400bf940>"
      ]
     },
     "execution_count": 3,
     "metadata": {},
     "output_type": "execute_result"
    },
    {
     "data": {
      "image/png": "[encoded data removed]",
      "text/plain": [
       "<Figure size 432x288 with 1 Axes>"
      ]
     },
     "metadata": {
      "needs_background": "light"
     },
     "output_type": "display_data"
    }
   ],
   "source": [
    "#Napravit ćemo primjer NM ručno zapisan\n",
    "#podaci\n",
    "x = np.array([[3.3], [4.4], [5.5], [6.71], [6.93], [4.168], [9.779], [6.182], [7.59], [2.167], [7.042], [10.791], [5.313], [7.998], [3.1]], dtype=np.float32)\n",
    "y = np.array([[1.7], [2.76], [2.09], [3.19], [2.094], [1.57], [3.366], [2.59], [2.82], [1.221], [2.821], [3.456], [1.65], [2.99], [1.3]], dtype=np.float32)\n",
    "plt.scatter(x,y)"
   ]
  },
  {
   "cell_type": "code",
   "execution_count": 4,
   "id": "51c3eb82",
   "metadata": {},
   "outputs": [
    {
     "name": "stdout",
     "output_type": "stream",
     "text": [
      "Ulazni podaci (15, 1)\n",
      "Težine w1 (1, 100)\n",
      "Težine w2 (100, 1)\n",
      "Pogreska u iteraciji 0 iznosi 1518.9520052263708\n",
      "Pogreska u iteraciji 100 iznosi 1.23134232010841\n",
      "Pogreska u iteraciji 200 iznosi 1.1074053692197972\n",
      "Pogreska u iteraciji 300 iznosi 1.038890924337598\n",
      "Pogreska u iteraciji 400 iznosi 1.0012288739606174\n",
      "Pogreska u iteraciji 500 iznosi 0.9805628048594135\n",
      "Pogreska u iteraciji 600 iznosi 0.9692121122818841\n",
      "Pogreska u iteraciji 700 iznosi 0.9629591286796977\n",
      "Pogreska u iteraciji 800 iznosi 0.9594966943299971\n",
      "Pogreska u iteraciji 900 iznosi 0.9575636642563576\n"
     ]
    },
    {
     "data": {
      "image/png": "[encoded data removed]",
      "text/plain": [
       "<Figure size 432x288 with 1 Axes>"
      ]
     },
     "metadata": {
      "needs_background": "light"
     },
     "output_type": "display_data"
    },
    {
     "data": {
      "image/png": "[encoded data removed]",
      "text/plain": [
       "<Figure size 432x288 with 1 Axes>"
      ]
     },
     "metadata": {
      "needs_background": "light"
     },
     "output_type": "display_data"
    },
    {
     "name": "stdout",
     "output_type": "stream",
     "text": [
      "Podatak =  [3.3]\n",
      "Mnozimo podatak [3.3] sa svim težinama\n",
      "[ 2.20474906 -0.44488176 -4.92223889 -2.57548477 -0.7575563 ] ...\n",
      "Sve dobivene aktivacijske jedinice napadnemo sa sigmoidom\n",
      "[0.90067517 0.39057836 0.00723015 0.07073294 0.31917705] ...\n",
      "Napravimo linearnu kombinaciju dobivenih aktivacijski jedinica sa težinama w2\n",
      "[1.54341788]\n"
     ]
    }
   ],
   "source": [
    "#dimenzije slojeva\n",
    "inputSize = 1\n",
    "hiddenSize = 100\n",
    "outputSize = 1\n",
    "# Inicijalizirat ćemo neke početne težine\n",
    "# Težine ćemo označavati nadalje s w umjesto theta (zbog jednostavnosti i w-weights je uobičajeno :-) )\n",
    "w1 = np.random.randn(inputSize, hiddenSize)\n",
    "w2 = np.random.randn(hiddenSize, outputSize)\n",
    "# Za aktivacijsku funkciju koristit ćemo sigmoid \n",
    "def sigmoid(x):\n",
    "    return 1.0 / (1.0 + np.exp(-x))\n",
    "# Provjerimo dimenzije podataka\n",
    "\n",
    "print(\"Ulazni podaci\",x.shape)\n",
    "print(\"Težine w1\", w1.shape)\n",
    "print(\"Težine w2\", w2.shape)\n",
    "# ALGORITAM:\n",
    "learningRate = 1e-4 # npr. 1e-6 premalo\n",
    "\n",
    "# Za crtanje funkcije pogreške\n",
    "loss_values = []\n",
    "\n",
    "for i in range(1000):\n",
    "    \n",
    "    # Prolazak unaprijed (forward pass): izračunaj predikciju\n",
    "    # pomnozimo x sa w1 (napravimo linearnu kombinaciju)\n",
    "    # djelujemo sa aktivacijskom funkcijom\n",
    "    # pomnozimo sa w2 \n",
    "    a2 = x @ w1 # Pomnozimo x sa svakom težinom\n",
    "    z2 = sigmoid(a2) # Djelujemo sa aktivacijskom funkcijom - ove vrijednosti tu su sada neuroni u skvirenom sloju\n",
    "    y_pred = z2 @ w2 # Pomnozimo sa drugim parom tezina - sada se nalazimo u zadnjem sloju\n",
    "    \n",
    "    # Nakon sto smo napravili jedan prolazak unaprijed idemo izracunati pogresku\n",
    "    loss = (1/2)*np.sum((y_pred - y)**2) # suma kvadratnih odstupanja\n",
    "    loss_values.append(loss)\n",
    "    if i%100==0:\n",
    "        print ('Pogreska u iteraciji {} iznosi {}'.format(i, loss))\n",
    "    \n",
    "    # Na kraju trebamo napraviti backpropagaciju kako bismo izračunali gradijente\n",
    "    # i ažurirati težine (parametre)\n",
    "    \n",
    "    \n",
    "    # ---- pocetak backprop ------------\n",
    "    grad_w2 = (z2.T) @ (y_pred - y)\n",
    "    \n",
    "    grad_w1_ = (y_pred-y) @ (w2.T)\n",
    "    grad_w1 = (x.T) @ ((sigmoid(a2)*(1-sigmoid(a2)))*grad_w1_)\n",
    "    # ---- kraj backprop ------------\n",
    "    #print(grad_w1)\n",
    "    #print(grad_w2)\n",
    "    \n",
    "    # Ažuriramo težine\n",
    "    w1 = w1 - learningRate * grad_w1\n",
    "    w2 = w2 - learningRate * grad_w2\n",
    "\n",
    "plt.plot(np.arange(0,1000,1), loss_values, color='orangered')\n",
    "plt.show()\n",
    "# Na kraju, kako bismo vidjeli što smo dobili prebacit ćemo predikcije u numpy array\n",
    "# i nacrati ih\n",
    "\n",
    "predicted = y_pred\n",
    "plt.scatter(x,y,color='tab:pink', label = \"original\")\n",
    "plt.scatter(x,predicted, color = 'tab:green')\n",
    "\n",
    "plt.legend()\n",
    "plt.show()\n",
    "# Analiza mreže\n",
    "print('Podatak = ',x[0])\n",
    "print('Mnozimo podatak', x[0], 'sa svim težinama')\n",
    "print(x[0].dot(w1)[:5], '...')\n",
    "print('Sve dobivene aktivacijske jedinice napadnemo sa sigmoidom')\n",
    "print(sigmoid(x[0].dot(w1))[:5], '...')\n",
    "print('Napravimo linearnu kombinaciju dobivenih aktivacijski jedinica sa težinama w2')\n",
    "print(sigmoid(x[0].dot(w1)).dot(w2))"
   ]
  },
  {
   "cell_type": "markdown",
   "id": "fd322cb3",
   "metadata": {},
   "source": [
    "## PYTORCH\n",
    "Pytorch je baziran na programskom jeziku Python. Primjenjuje se u metodama dubokog učenja jer koristi mogućnosti GPU-a i pruža veliku fleksibilnost i brzinu. <br>\n",
    "Proces treniranja modela dubokog učenja je vremenski zahtjevan i njegovo izvođenje na CPU-u dugo traje, stoga je rješenje prebacivanje računanja na GPU. GPU sadrži velik broj jezgri koje su optimizirane za paralelno računanje. <br>\n",
    "\n",
    "U PyTorch paketu je implementiran veliki broj operacija. Osnovni objekt nad kojim se izvršavaju operacije je tenzor. Tenzori se direktno mogu premještati s CPU na GPU i obratno.<br>\n",
    "\n",
    "PyTorch sadrži paket autograd koji pruža automatsko računanje gradijenta u neuronskim mrežama koristeći tehnike automatske diferencijacije. Na ovaj način je proces propagacije unatrag za računanje gradijenta pogreške u potpunosti pojednostavljen. \n",
    "\n",
    "PyTorch sadrži paket $nn$ koji omogućuje jednostavno slaganje konvolucijskih mreža, automatizira procese računanja i sadrži implementacije velikog broja funkcija pogreške. <br>\n",
    "<img src=\"https://venturebeat.com/wp-content/uploads/2019/06/pytorch-e1576624094357.jpg?w=1200&strip=all\" width=\"20%\">"
   ]
  },
  {
   "cell_type": "code",
   "execution_count": 3,
   "id": "fc0730de",
   "metadata": {},
   "outputs": [
    {
     "name": "stderr",
     "output_type": "stream",
     "text": [
      "C:\\Users\\Korisnik\\faks\\lib\\site-packages\\tqdm\\auto.py:22: TqdmWarning: IProgress not found. Please update jupyter and ipywidgets. See https://ipywidgets.readthedocs.io/en/stable/user_install.html\n",
      "  from .autonotebook import tqdm as notebook_tqdm\n"
     ]
    }
   ],
   "source": [
    "import torch\n",
    "import torch.nn as nn #za ugrađene aktivacijske funkcije i sl."
   ]
  },
  {
   "cell_type": "markdown",
   "id": "7488db1e",
   "metadata": {},
   "source": [
    "### Primjer 1\n",
    "Usporedba tenzora i numpy arraya"
   ]
  },
  {
   "cell_type": "code",
   "execution_count": 6,
   "id": "7b1d7f88",
   "metadata": {},
   "outputs": [
    {
     "name": "stdout",
     "output_type": "stream",
     "text": [
      "<class 'numpy.ndarray'>\n",
      "<class 'torch.Tensor'>\n",
      "tensor([[-0.1393,  2.7187, -0.2553, -0.1793],\n",
      "        [-2.7097,  1.6450, -0.1795,  0.1519]])\n",
      "tensor([[-0.1393,  2.7187, -0.2553, -0.1793],\n",
      "        [-2.7097,  1.6450, -0.1795,  0.1519]])\n",
      "torch.Size([2, 3]) torch.Size([3, 4])\n"
     ]
    }
   ],
   "source": [
    "# Proci cemo kroz neke osnovne funkcionalnosti koje ćete koristiti\n",
    "# i usporediti ih sa dosadašnjima iz numpyja\n",
    "\n",
    "# Zelimo kreirati vektor sa slučajno generiranim brojevima \n",
    "# veličine n1 x n2\n",
    "\n",
    "n1 = 10\n",
    "n2 = 2\n",
    "\n",
    "# Numpy \n",
    "x_np = np.random.randn(n1,n2)\n",
    "# Torch tensor\n",
    "x_torch = torch.randn(n1,n2)\n",
    "\n",
    "# Ako pokrenemo kod vidjet ćemo osnovnu razliku\n",
    "# x_np je array, a x_torch je tenzor - kao što smo rekli na početku, \n",
    "# tenzori su osnovni objekti s kojima ćemo raditi\n",
    "\n",
    "print(type(x_np))\n",
    "print(type(x_torch))\n",
    "\n",
    "\n",
    "# Množenje dva tenzora\n",
    "# Neka su zadani tenzori a i b\n",
    "# a je 2 x 3, b je 3 x 4\n",
    "a = torch.randn(2,3)\n",
    "b = torch.randn(3,4)\n",
    "print(torch.mm(a,b))\n",
    "# ili\n",
    "print(a.mm(b)) #matricno mnozenje kao @ u numpy arrayevima\n",
    "\n",
    "# Ispitivanje dimenzija kao i do sada\n",
    "print(a.shape, b.shape)\n",
    "\n"
   ]
  },
  {
   "cell_type": "markdown",
   "id": "a6530a7e",
   "metadata": {},
   "source": [
    "### Primjer 2\n",
    "Linearna regresija s početka s jednim skrivenim slojem"
   ]
  },
  {
   "cell_type": "code",
   "execution_count": 7,
   "id": "8eae45a8",
   "metadata": {},
   "outputs": [
    {
     "name": "stdout",
     "output_type": "stream",
     "text": [
      "Pogreska u iteraciji 0 iznosi 670.276123046875\n",
      "Pogreska u iteraciji 2 iznosi 14.714109420776367\n",
      "Pogreska u iteraciji 4 iznosi 1.763546347618103\n",
      "Pogreska u iteraciji 6 iznosi 1.507517695426941\n",
      "Pogreska u iteraciji 8 iznosi 1.5024596452713013\n",
      "Pogreska u iteraciji 10 iznosi 1.502366542816162\n",
      "Pogreska u iteraciji 12 iznosi 1.502350926399231\n",
      "Pogreska u iteraciji 14 iznosi 1.5023516416549683\n"
     ]
    },
    {
     "data": {
      "text/plain": [
       "[]"
      ]
     },
     "execution_count": 7,
     "metadata": {},
     "output_type": "execute_result"
    },
    {
     "data": {
      "image/png": "[encoded data removed]",
      "text/plain": [
       "<Figure size 432x288 with 1 Axes>"
      ]
     },
     "metadata": {
      "needs_background": "light"
     },
     "output_type": "display_data"
    }
   ],
   "source": [
    "# Zadani su nam podaci\n",
    "\n",
    "# Podaci su\n",
    "x = np.array([[3.3], [4.4], [5.5], [6.71], [6.93], [4.168], [9.779], [6.182], [7.59], [2.167], [7.042], [10.791], [5.313], [7.998], [3.1]], dtype=np.float32)\n",
    "y = np.array([[1.7], [2.76], [2.09], [3.19], [2.094], [1.57], [3.366], [2.59], [2.82], [1.221], [2.821], [3.456], [1.65], [2.99], [1.3]], dtype=np.float32)\n",
    "\n",
    "# No, podatke sada moramo pretvoriti u tenzore\n",
    "# Postoje dva načina, mi ćemo odabrati prvi\n",
    "# 1. nacin: napravi deep copy\n",
    "x_T = torch.tensor(x, dtype = torch.float)\n",
    "# 2. nacin: napravi shallow copy\n",
    "#x_train_T = torch.from_numpy(x_train)   \n",
    "\n",
    "y_T = torch.tensor(y, dtype = torch.float)\n",
    "              \n",
    "# Dimenzije neuronske mreže su\n",
    "inputSize = 1\n",
    "hiddenSize = 100\n",
    "outputSize = 1\n",
    "\n",
    "# Postavimo početne težine na neke slučajno generirane brojeve\n",
    "w1 = torch.randn(inputSize, hiddenSize, dtype = torch.float, requires_grad = True)\n",
    "w2 = torch.randn(hiddenSize, outputSize, dtype = torch.float, requires_grad = True)\n",
    "\n",
    "# Primijetimo dodatni argument koji smo proslijedili\n",
    "# requires_grad = True <--- to označava da želimo računati gradijent s obzirom\n",
    "# na te tenzore tijekom prolaska unatrag (backward pass)\n",
    "    \n",
    "learningRate = 1e-5\n",
    "\n",
    "# Algoritam\n",
    "\n",
    "# za kasnije za crtanje grafa pogreške\n",
    "loss_values = [] \n",
    "n_iter = 15\n",
    "for i in range(n_iter):\n",
    "    # Prolazak unaprijed (forward pass): izračunaj predikciju\n",
    "    # Ono što ćemo napraviti će biti isto kao i u prethodnom algoritmu \n",
    "    # No, razlika je što sada radimo s tenzorima\n",
    "    # A druga razlika je što nam ne trebaju međukoraci jer nećemo ručno računati gradijent\n",
    "    \n",
    "    y_pred_T = x_T.mm(w1).clamp(min = 0).mm(w2) \n",
    "    #prvi sloj pomnozen s tezinama izmedu prvog i drugog sloja,\n",
    "    #djelovanje aktivacijskom funkcijom relu(clamp(min=0)) \n",
    "    #i onda je to pomnozeno s tezinama izmedu drugog i treceg sloja\n",
    "    \n",
    "    # Nakon sto smo napravili jedan prolazak unaprijed idemo izracunati pogresku\n",
    "    loss = (1/2)*((y_pred_T - y_T)**2).sum() # suma kvadratnih odstupanja\n",
    "    loss_values.append(loss.item())\n",
    "    if i%2==0:\n",
    "        print ('Pogreska u iteraciji {} iznosi {}'.format(i, loss.item()))\n",
    "    \n",
    "    # Sada ćemo napraviti backward propagaciju, izračunati gradijente\n",
    "    # Korsitit ćemo 'autograd'\n",
    "    # Poziv sljedeće funkcije će izračunati sve gradijente s obzirom na sve\n",
    "    # tenzore koji imaju oznaku requires_grad=True\n",
    "    # Dakle, budući da loss ovisi o tenzorima w1 i w2, a oni imaju tu oznaku jer  smo ih tako kreirali\n",
    "    # izračunati će se ti gradijenti i bit će spremljeni u w1.grad tj, w2.grad\n",
    "    \n",
    "    # Poziv funkcije\n",
    "    loss.backward()\n",
    "    \n",
    "    # Sada ćemo ažurirati težine w\n",
    "    with torch.no_grad():\n",
    "        \n",
    "        w1 -= learningRate * w1.grad\n",
    "        w2 -= learningRate * w2.grad\n",
    "\n",
    "        # Manually zero the gradients after updating weights\n",
    "        w1.grad.zero_()\n",
    "        w2.grad.zero_()\n",
    "plt.plot(np.arange(0,n_iter,1), loss_values, color='orangered')\n",
    "plt.plot()"
   ]
  },
  {
   "cell_type": "markdown",
   "id": "76f18e0f",
   "metadata": {},
   "source": [
    "### Primjer 3\n",
    "Isto samo na efikasniji način"
   ]
  },
  {
   "cell_type": "markdown",
   "id": "a5ee2df7",
   "metadata": {},
   "source": [
    " - linearno preslikavanje smo dosad implementirali kao matrično množenje tenzora prijelaza između dva sloja i nekog vektora (ulaza ili skrivenog sloja)\n",
    " - u `torch.nn` se nalazi wrapper za linearno preslikavanje - `nn.Linear`, kojim ljepše i možda efikasnije sve računamo\n",
    " - koristit ćemo wrapper `nn.Sequential` u koji redom poslažemo sve komponente mreže\n",
    " - aktivacijske funkcije i loss funkcije su već implementirane, npr. `nn.ReLU` i `nn.MSELoss`\n",
    " - u `Sequential` klasi je definirana funkcija `parameters` kojom pristupamo svim parametrima tako definiranog modela "
   ]
  },
  {
   "cell_type": "code",
   "execution_count": 8,
   "id": "dd869479",
   "metadata": {},
   "outputs": [
    {
     "name": "stdout",
     "output_type": "stream",
     "text": [
      "Pogreska u iteraciji 0 iznosi 7.096378803253174\n",
      "Pogreska u iteraciji 100 iznosi 6.9854736328125\n",
      "Pogreska u iteraciji 200 iznosi 6.876412868499756\n",
      "Pogreska u iteraciji 300 iznosi 6.769167423248291\n",
      "Pogreska u iteraciji 400 iznosi 6.663705825805664\n"
     ]
    }
   ],
   "source": [
    "# Zadani su nam podaci\n",
    "\n",
    "x = np.array([[3.3], [4.4], [5.5], [6.71], [6.93], [4.168], [9.779], [6.182], [7.59], [2.167], [7.042], [10.791], [5.313], [7.998], [3.1]], dtype=np.float32)\n",
    "y = np.array([[1.7], [2.76], [2.09], [3.19], [2.094], [1.57], [3.366], [2.59], [2.82], [1.221], [2.821], [3.456], [1.65], [2.99], [1.3]], dtype=np.float32)\n",
    "\n",
    "# No, podatke sada moramo pretvoriti u tenzore\n",
    "# Postoje dva načina, mi ćemo odabrati prvi\n",
    "# 1. nacin: napravi deep copy\n",
    "x_T = torch.tensor(x, dtype = torch.float)\n",
    "# 2. nacin: napravi shallow copy\n",
    "#x_train_T = torch.from_numpy(x_train)   \n",
    "\n",
    "y_T = torch.tensor(y, dtype = torch.float)\n",
    "              \n",
    "# Dimenzije neuronske mreže su\n",
    "inputSize = 1\n",
    "hiddenSize = 100\n",
    "outputSize = 1\n",
    "\n",
    "# Koristit ćemo nn paketa\n",
    "# nn.Sequential je modul koji sadrži druge module i izvršava ih redom\n",
    "\n",
    "# Ako želimo linearni sloj - ulazni podatak pomnožiti sa svim težinama koristimo\n",
    "# torch.nn.Linear(inputSize, hiddenSize)\n",
    "\n",
    "# Ako želimo izračunati ono što smo nazivali z^(2), dakle djelovati na svaki neuron\n",
    "# aktivacijskom funkcijom zovemo\n",
    "# torch.nn.ReLu() ili torch.nn.Sigmoid() ili torch.nn.Tanh()\n",
    "# više na https://pytorch.org/docs/stable/nn.html#non-linear-activations-weighted-sum-nonlinearity\n",
    "              \n",
    "# Ako želimo koristiti neku od standardnih funkcija pogreške koristimo \n",
    "# torch.nn.MSELoss() ili nešto drugo https://pytorch.org/docs/stable/nn.html#loss-functions\n",
    "\n",
    "\n",
    "# Sastavit ćemo neuronsku mrežu na ovaj način\n",
    "\n",
    "model = torch.nn.Sequential(\n",
    "        torch.nn.Linear(inputSize, hiddenSize),\n",
    "        torch.nn.Sigmoid(),\n",
    "        torch.nn.Linear(hiddenSize, outputSize))\n",
    "\n",
    "# Odabrat ćemo loss funkciju \n",
    "loss_fn = torch.nn.MSELoss()\n",
    "loss_values = [] \n",
    "\n",
    "\n",
    "learningRate = 1e-6\n",
    "for i in range(500):\n",
    "    # Prolazak unaprijed (forward pass): izračunaj predikciju\n",
    "    # Sada je potrebno samo ovo\n",
    "    y_pred = model(x_T)\n",
    "    \n",
    "    \n",
    "    # Nakon sto smo napravili jedan prolazak unaprijed idemo izracunati pogresku\n",
    "    loss = loss_fn(y_pred, y_T)\n",
    "    loss_values.append(loss.item())\n",
    "    if i%100==0:\n",
    "        print ('Pogreska u iteraciji {} iznosi {}'.format(i, loss.item()))\n",
    "    \n",
    "    # Sada ćemo napraviti backward propagaciju, izračunati gradijente\n",
    "    # Prvo ćemo ih sve postaviti na 0\n",
    "    model.zero_grad()\n",
    "    # Poziv funkcije\n",
    "    loss.backward()\n",
    "    \n",
    "    # Sada ćemo ažurirati težine w\n",
    "    with torch.no_grad():\n",
    "        # Proći ćemo kroz sve težine u našem modelu\n",
    "        for w in model.parameters():\n",
    "            w -= learningRate * w.grad\n",
    "\n"
   ]
  },
  {
   "cell_type": "code",
   "execution_count": 9,
   "id": "b44aed6c",
   "metadata": {},
   "outputs": [
    {
     "data": {
      "image/png": "[encoded data removed]",
      "text/plain": [
       "<Figure size 432x288 with 1 Axes>"
      ]
     },
     "metadata": {
      "needs_background": "light"
     },
     "output_type": "display_data"
    }
   ],
   "source": [
    "plt.plot(np.arange(0,500,1), loss_values)\n",
    "plt.show()"
   ]
  },
  {
   "cell_type": "markdown",
   "id": "54b03091",
   "metadata": {},
   "source": [
    "## POVRATNA PROPAGACIJA"
   ]
  },
  {
   "cell_type": "markdown",
   "id": "874b1938",
   "metadata": {},
   "source": [
    "- Arhitekturu neuronske mreže možemo interpretirati kao **graf računanja** tako da za neki vrh trenutnog sloja postoji brid iz svakog vrha prethodnog sloja.\n",
    "- Kombiniranjem težina i aktivacijskih funkcija znatno se povećava ekspresivnost modela obzirom na standardne modele strojnog učenja.\n",
    "- Radi primjera, pretpostavimo da je ulaz u neuronsku mrežu realan broj $w$, funkcija koja ulaz preslikava ulazni u prvi sloj $g$ i funkcija koja skriveni sloj preslikava u izlaz $f$.\n",
    "- Računanje je tada definirano sa $w \\mapsto f(g(w))$, dok derivacije računamo primjenom teorema o deriviranju kompozicije funkcija:\n",
    "\n",
    "$$\n",
    "\\frac{df}{dw} = \\frac{df}{dg}\\frac{dg}{dw}\n",
    "$$\n",
    "- U algoritmu povratne propagacije koristimo navedeni teorem. Kako je broj neurona velik, na predavanju su uvedene oznake koje \"olakšavaju\" računanje gradijenta."
   ]
  },
  {
   "cell_type": "code",
   "execution_count": 10,
   "id": "cbb15ccf",
   "metadata": {},
   "outputs": [
    {
     "name": "stdout",
     "output_type": "stream",
     "text": [
      "Pogreska u iteraciji 1 iznosi 46.271339416503906\n",
      "Pogreska u iteraciji 100 iznosi 0.1267114132642746\n",
      "Pogreska u iteraciji 200 iznosi 0.12585774064064026\n",
      "Pogreska u iteraciji 300 iznosi 0.1257687509059906\n",
      "Pogreska u iteraciji 400 iznosi 0.1257115751504898\n",
      "Pogreska u iteraciji 500 iznosi 0.12567320466041565\n"
     ]
    }
   ],
   "source": [
    "X = np.array([[3.3], [4.4], [5.5], [6.71], [6.93], [4.168], [9.779], [6.182], [7.59], [2.167], [7.042], [10.791], [5.313], [7.998], [3.1]], dtype=np.float32)\n",
    "y = np.array([[1.7], [2.76], [2.09], [3.19], [2.094], [1.57], [3.366], [2.59], [2.82], [1.221], [2.821], [3.456], [1.65], [2.99], [1.3]], dtype=np.float32)\n",
    "\n",
    "X_tensor = torch.tensor(X, dtype=torch.float)\n",
    "y_tensor = torch.tensor(y, dtype=torch.float)\n",
    "              \n",
    "input_size = 1\n",
    "hidden_size = 100\n",
    "output_size = 1\n",
    "\n",
    "w1 = torch.randn(input_size, hidden_size, dtype=torch.float, requires_grad=False)\n",
    "w2 = torch.randn(hidden_size, output_size, dtype=torch.float, requires_grad=False)\n",
    "\n",
    "lr = 1e-3\n",
    "loss_values = [] \n",
    "num_iter = 500\n",
    "\n",
    "sigmoid = nn.Sigmoid()\n",
    "\n",
    "for i in range(1, num_iter + 1):\n",
    "    a1 = X_tensor\n",
    "    z2 = a1 @ w1\n",
    "    a2 = sigmoid(z2)\n",
    "    y_pred = a2 @ w2\n",
    "    \n",
    "    loss = (y_pred - y_tensor).pow(2).mean()\n",
    "    loss_values.append(loss.item())\n",
    "    if i == 1 or i % (num_iter // 5) == 0:\n",
    "        print (f'Pogreska u iteraciji {i} iznosi {loss}')\n",
    "    \n",
    "    # Povratna propagacija\n",
    "    delta3 = (y_pred - y_tensor)\n",
    "    delta2 = delta3 @ w2.T * (a2 * (1 - a2))\n",
    "    grad_w2 = a2.T @ delta3\n",
    "    grad_w1 = a1.T @ delta2\n",
    "    \n",
    "    # Ažuriranje težina\n",
    "    w1 -= lr * grad_w1\n",
    "    w2 -= lr * grad_w2"
   ]
  },
  {
   "cell_type": "markdown",
   "id": "38b9213e",
   "metadata": {},
   "source": [
    "### Zadatak\n",
    "Riješite problem binarne klasifikacije neuronskom mrežom:\n",
    " - Dimenzija ulaza je 2 (točke u ravnini)\n",
    " - Dimenzija prvog skrivenog sloja je 100, a aktivacijska funkcija $\\mathrm{tanh}$\n",
    " - Dimenzija drugog skrivenog sloja je 50, a aktivacijska funkcija $\\mathrm{tanh}$\n",
    " - Dimenzija izlaznog sloja je 2 (broj klasa), a aktivacijska funkcija je (prirodno) $\\sigma$\n",
    "\n",
    "Iskoristite funkciju `make_blobs` kako biste generirali 10000 točaka."
   ]
  },
  {
   "cell_type": "code",
   "execution_count": 11,
   "id": "533642a0",
   "metadata": {},
   "outputs": [
    {
     "data": {
      "image/png": "[encoded data removed]",
      "text/plain": [
       "<Figure size 432x288 with 1 Axes>"
      ]
     },
     "metadata": {
      "needs_background": "light"
     },
     "output_type": "display_data"
    },
    {
     "name": "stdout",
     "output_type": "stream",
     "text": [
      "Pogreska u iteraciji 1 iznosi 1.9055430889129639\n",
      "Pogreska u iteraciji 1000 iznosi 0.1320992112159729\n",
      "Pogreska u iteraciji 2000 iznosi 0.08923365920782089\n",
      "Pogreska u iteraciji 3000 iznosi 0.07273920625448227\n",
      "Pogreska u iteraciji 4000 iznosi 0.06614159792661667\n",
      "Pogreska u iteraciji 5000 iznosi 0.06234904006123543\n"
     ]
    }
   ],
   "source": [
    "X, y = make_blobs(n_samples=5000, n_features=2, centers=2, random_state=12)\n",
    "plt.scatter(X[:, 0], X[:, 1], c=y)\n",
    "plt.show()\n",
    "#razdvajanje podataka, pretvorba u tenzore i zadavanje hiperparametara\n",
    "X_train, X_test, y_train, y_test = train_test_split(X, y, test_size=0.2, random_state=123)\n",
    "\n",
    "X_train_tensor = torch.tensor(X_train, dtype=torch.float)\n",
    "y_train_tensor = torch.tensor(y_train, dtype=torch.long).reshape(-1, 1)\n",
    "\n",
    "X_test_tensor = torch.tensor(X_test, dtype=torch.float)\n",
    "y_test_tensor = torch.tensor(y_test, dtype=torch.long).reshape(-1, 1)\n",
    "              \n",
    "input_size = 2\n",
    "hidden_size_1 = 100\n",
    "hidden_size_2 = 50\n",
    "output_size = 1\n",
    "\n",
    "lr = 1e-3\n",
    "loss_values = [] \n",
    "num_iter = 5000\n",
    "\n",
    "sigmoid = nn.Sigmoid()\n",
    "relu = nn.ReLU()\n",
    "tanh = nn.Tanh()\n",
    "m = X_train_tensor.shape[0]\n",
    "#treniranje modela\n",
    "theta_1 = torch.randn(input_size, hidden_size_1, dtype=torch.float, requires_grad=False)\n",
    "theta_2 = torch.randn(hidden_size_1, hidden_size_2, dtype=torch.float, requires_grad=False)\n",
    "theta_3 = torch.randn(hidden_size_2, output_size, dtype=torch.float, requires_grad=False)\n",
    "\n",
    "\n",
    "for i in range(1, num_iter + 1):\n",
    "    a1 = X_train_tensor\n",
    "    z2 = a1 @ theta_1\n",
    "    a2 = tanh(z2)\n",
    "    z3 = a2 @ theta_2\n",
    "    a3 = tanh(z3)\n",
    "    z4 = a3 @ theta_3\n",
    "    a4 = sigmoid(z4)\n",
    "    y_pred = a4\n",
    "    \n",
    "    loss = (-y_train_tensor * torch.log(y_pred) - (1 - y_train_tensor) * torch.log(1 - y_pred)).mean()\n",
    "    loss_values.append(loss.item())\n",
    "    if i == 1 or i % (num_iter // 5) == 0:\n",
    "        print (f'Pogreska u iteraciji {i} iznosi {loss.item()}')\n",
    "    \n",
    "    # Povratna propagacija\n",
    "    delta4 = (1 / m) * (-y_train_tensor / y_pred + (1 - y_train_tensor) / (1 - y_pred)) * a4 * (1 - a4)\n",
    "    delta3 = delta4 @ theta_3.T * (1 - a3 * a3)\n",
    "    delta2 = delta3 @ theta_2.T * (1 - a2 * a2)\n",
    "    grad_theta_3 = a3.T @ delta4\n",
    "    grad_theta_2 = a2.T @ delta3\n",
    "    grad_theta_1 = a1.T @ delta2\n",
    "    \n",
    "    # Ažuriranje težina\n",
    "    theta_1 = theta_1 - lr * grad_theta_1\n",
    "    theta_2 = theta_2 - lr * grad_theta_2\n",
    "    theta_3 = theta_3 - lr * grad_theta_3"
   ]
  },
  {
   "cell_type": "code",
   "execution_count": 12,
   "id": "e7f65143",
   "metadata": {},
   "outputs": [
    {
     "name": "stdout",
     "output_type": "stream",
     "text": [
      "accuracy = 0.9879999756813049\n"
     ]
    }
   ],
   "source": [
    "a1 = X_test_tensor\n",
    "z2 = a1 @ theta_1\n",
    "a2 = tanh(z2)\n",
    "z3 = a2 @ theta_2\n",
    "a3 = tanh(z3)\n",
    "z4 = a3 @ theta_3\n",
    "a4 = sigmoid(z4)\n",
    "y_pred = a4\n",
    "y_pred[y_pred >= 0.5] = 1\n",
    "y_pred[y_pred < 0.5] = 0\n",
    "accuracy = (y_pred == y_test_tensor).sum() / y_pred.shape[0]\n",
    "print(f'accuracy = {accuracy}')"
   ]
  },
  {
   "cell_type": "markdown",
   "id": "76b2ba4b",
   "metadata": {},
   "source": [
    "## Primjer 4\n",
    "#### Optimizacijski algoritmi\n",
    "- Optimizacijski algoritmi su osnova procesa strojnog učenja, no za razliku od uobičajene optimizacije gdje je cilj pronaći optimalne parametre, ovdje je cilj postići što veću točnost modela.\n",
    "- Općenito u neuronskim mrežama, osim ažuriranja težina na spojevima aktivacijski jedinica, potrebno je optimizirati i ostale hiperparametre koji se pojavljuju.\n",
    "- Stopa učenja je hiperparametar koji je najteže postaviti jer njegova vrijednost značajno utječe na model. \n",
    "- AdaGrad algoritam adaptira stopu učenja tako da ju skalira s obzirom na akumulirane vrijednosti gradijenta pripadne funkcije. Tako će parametri koji imaju velike parcijalne derivacije brzo početi koristiti male stope učenja, dok parametri s malim parcijalnim derivacijama neće imati velike promjene u stopi učenja. \n",
    "\n",
    "---\n",
    "\n",
    "- torch.optim paket implementira različite optimizacijske algoritme\n",
    "- Optimizer konstruiramo tako da damo spremnik (iterable) koji sadrži sve parametre koje moramo optimizirati\n",
    "- npr. `optimizer = optim.Adam([var1, var2], lr=0.0001)`\n",
    "- svi optimizatori imaju implementiranu metodu `step()`\n",
    "\n",
    "\n",
    "##### Adam\n",
    "`torch.optim.Adam(params, lr=0.001, betas=(0.9, 0.999), eps=1e-08, weight_decay=0, amsgrad=False)`"
   ]
  },
  {
   "cell_type": "code",
   "execution_count": 13,
   "id": "1b3b868c",
   "metadata": {},
   "outputs": [],
   "source": [
    "class TorchGlassClassifier(nn.Module):\n",
    "    def __init__(self, input_size, hidden_size, output_size):\n",
    "        super().__init__()\n",
    "        self.theta_1 = nn.Linear(input_size, hidden_size)\n",
    "        self.theta_2 = nn.Linear(hidden_size, hidden_size)\n",
    "        self.theta_3 = nn.Linear(hidden_size, output_size)\n",
    "        self.tanh = nn.Tanh()\n",
    "        self.relu = nn.ReLU()\n",
    "        self.softmax = nn.Softmax(dim=1)\n",
    "        \n",
    "model = TorchGlassClassifier(input_size, hidden_size, output_size)\n",
    "\n",
    "\n",
    "optimizer = torch.optim.SGD(model.parameters(), lr=0.01, momentum=0.9)\n",
    "optimizer = torch.optim.Adam(model.parameters(), lr=0.0001)"
   ]
  },
  {
   "cell_type": "markdown",
   "id": "37acafee",
   "metadata": {},
   "source": [
    "## KLASTERIRANJE"
   ]
  },
  {
   "cell_type": "markdown",
   "id": "34c9b635",
   "metadata": {},
   "source": [
    "### - TVRDO KLASTERIRANJE"
   ]
  },
  {
   "cell_type": "markdown",
   "id": "0302e6c6",
   "metadata": {},
   "source": [
    "Definicije:\n",
    "\n",
    "- k-particija skupa: Rastav skupa $A=\\{x_i\\in \\mathbb{R}^n: i=1,\\cdots,m\\}$ na $1\\leq k \\leq m$ disjunktnih, nepraznih podskupova $\\pi_1, \\cdots, \\pi_k$\n",
    "- broj svih k-particija skupa $A$ jednak je Stirlingovom broju druge vrste $|\\mathcal{P}(A,k)| = \\frac{1}{k!}\\sum\\limits_{j=1}^k (-1)^(k-j){k \\choose j}j^m$\n",
    "- kvazimetrička funkcija: Funkcija $d:\\mathbb{R}^n \\times \\mathbb{R}^n \\rightarrow \\mathbb{R}$ sa svojstvima\n",
    "\n",
    "- najbolji reprezentant (centar): Neka je $d:\\mathbb{R}^n \\times \\mathbb{R}^n \\rightarrow \\mathbb{R}$ kvazimetrika, najbolji reprezentant skupa $\\pi_j$ je $$\\mu_j ^* \\in \\arg\\min{\\sum\\limits_{i=1}^m d(\\mu, x_i)}$$\n",
    "\n",
    "Kvazimetrike koje koristimo: \n",
    "- $d_{LS}(x,y) = ||x-y||^2_2$ (least square (LS) kvazimetrička funkcija)\n",
    "- $d_1(x,y) = |x-y|$ ($l_1$ metrička funkcija, Manhattan metrika)\n",
    "\n",
    "Najbolji reprezentanti kvazimetrika:\n",
    "\n",
    "- $L_s$: aritmetička sredina\n",
    "- $L_1$: medijan"
   ]
  },
  {
   "cell_type": "markdown",
   "id": "83914462",
   "metadata": {},
   "source": [
    "Kriterijska funkcija\n",
    "- imamo skup $X=\\{x_i \\in \\mathbb{R}^n: i=1,\\cdots,m\\}$\n",
    "- $k\\geq 1$\n",
    "- $\\mathcal{F} : \\mathcal{P}(X,k) \\rightarrow \\mathbb{R}_+$ (*suma udaljenosti do centra klastera po svim klasterima*)\n",
    "- $\\mathcal{F}(\\Pi) = \\sum\\limits_{j=1}^{k}\\sum\\limits_{x_i\\in\\pi_j}d(c_j,x_i)$\n",
    "\n",
    "Optimizacijski problem\n",
    "- minimizirati po $ \\Pi \\in \\mathcal{P}(X,k)$\n",
    "- (globalno) optimalna particija je $\\Pi ^* \\in \\arg\\min\\limits_{\\Pi \\in \\mathcal{P}(X,k) }{\\mathcal{F}(\\Pi)}$ \n",
    "\n",
    "Formiramo klaster: (princip minimalnih udaljenosti)\n",
    "- $\\pi_j = \\{x_i: d(\\mu_j, x_i)\\leq d(\\mu_s,x_i) \\forall s=1,\\cdots,k\\} \\; , j=1,\\cdots,k$\n",
    "\n",
    "**k-means algoritam**\n",
    "1. odaberi početne centre $\\mu_1, \\cdots, \\mu_k$  \n",
    "2. po principu minimalnih udaljenosti odredi klastere $\\pi_j = \\{x_i: d(\\mu_j, x_i)\\leq d(\\mu_s,x_i) \\forall s=1,\\cdots,k\\}\\; , j=1,\\cdots,k$ (*assignment step*)\n",
    "3. definiramo nove centre  $\\mu_j \\in \\arg\\min \\sum\\limits_{x_i\\in \\pi_j}d(\\mu_j, x_i)$ (*update step*)\n",
    "4. ponavljaj 2. i 3. sve dok se centri ne počnu ponavljati"
   ]
  },
  {
   "cell_type": "markdown",
   "id": "5cd64398",
   "metadata": {},
   "source": [
    "K-MEANS ALGORITAM IZ SKLEARN-A\n",
    "\n",
    "class sklearn.cluster.KMeans(n_clusters=8, init='k-means++', n_init=10, max_iter=300, tol=0.0001, precompute_distances='auto', verbose=0, random_state=None, copy_x=True, n_jobs=None, algorithm='auto')\n",
    "\n",
    "**argumenti**:<br>\n",
    "- n_clusters = broj grupa na koje radite podjelu podataka\n",
    "- init = početni centri\n",
    "    - ako ne proslijedite ništa k-means++ metoda odabire početne centre tako da metoda najbrže izkonvergira\n",
    "    - ako proslijedite random, odabiru se slučajno odabrani podaci za centre\n",
    "    - možete proslijediti numpy array sa centrima po želji\n",
    "- n_init = broj koliko puta će k-means algoritam biti pokrenut sa različitim odabirima početnog centra. Konačni rezultat algoritma će biti onaj od njih ukupno n_init koji daje najbolji rezultat u smislu najmanje funkcije cilja\n",
    "- max_iter = maksimalni broj iteracija k-means algoritma\n",
    "- tol = kada promjena funkcije cilja postane manja od tol, smatramo da se dogodila konvergencija\n",
    "\n",
    "**pokretanje algoritma**: <br>\n",
    "pozivom funkcije .fit(podaci)\n",
    "npr: kmeans. fit(self,X)\n",
    "\n",
    "**rezultati**: <br>\n",
    "- cluster_centers_ : centre izračunatih grupa\n",
    "- labels_ndarray: numpy array koji na i-tom mjestu sadrži oznaku klase kojoj pripada i-ti podatak\n",
    "- n_iter_int: broj iteracija koje je algoritam izvršio \n",
    "- inertia_: vrijednost funkcije cilja"
   ]
  },
  {
   "cell_type": "code",
   "execution_count": 2,
   "id": "fcf758f7",
   "metadata": {},
   "outputs": [],
   "source": [
    "from sklearn.cluster import KMeans\n",
    "import numpy as np\n",
    "import matplotlib.pyplot as plt\n",
    "from sklearn.metrics import calinski_harabasz_score"
   ]
  },
  {
   "cell_type": "code",
   "execution_count": null,
   "id": "6830f0eb-5e38-4df9-94d9-5ae514ddbbe5",
   "metadata": {},
   "outputs": [],
   "source": [
    "\n",
    "\n",
    "kmeans = KMeans(n_clusters=3).fit(X)\n",
    "print(kmeans.cluster_centers_) #koordinate centara svih klastera\n",
    "print(kmeans.labels_)  #oznake kojem klasteru pripada pojedini podatak\n",
    "print(kmeans.inertia_) #suma kvadrata udaljenosti od svakog podatka do centra njegovog klastera"
   ]
  },
  {
   "cell_type": "code",
   "execution_count": null,
   "id": "e611a498-db13-4cce-a01b-1fbf7eb8e10f",
   "metadata": {},
   "outputs": [],
   "source": [
    "plt.scatter(X[:,0], X[:,1],c='r')\n",
    "plt.scatter(kmeans.cluster_centers_[:,0], kmeans.cluster_centers_[:,1], s=500, marker='*',c='b')\n",
    "plt.show()\n",
    "calinski_harabasz_score(X, kmeans.labels_)"
   ]
  },
  {
   "cell_type": "markdown",
   "id": "47ec24a7",
   "metadata": {},
   "source": [
    "- veći CH indeks znači bolji izbor particije\n",
    "- $CH= \\frac{SS_B}{SS_w} \\times \\frac{m-k}{k-1}$\n",
    "- gdje je $m$ broj podataka, $k$ broj klustera, $SS_B$ je ukupna varijanca između klasera, $SS_W$ je ukupna varijanc unutar klastera"
   ]
  },
  {
   "cell_type": "markdown",
   "id": "cde9a5f0",
   "metadata": {},
   "source": [
    "### - MEKO KLASTERIRANJE"
   ]
  },
  {
   "cell_type": "markdown",
   "id": "a78ce26f",
   "metadata": {},
   "source": [
    "Svakom podatku dodjeljujemo vjerojatnost da pripada pojedinim klasterima.\n",
    "\n",
    "Za $i=1,\\dots,m$ i $j=1,\\dots,k$ uvedemo oznaku\n",
    "$$\n",
    "w_{ij} = \\begin{cases} 1,  x^{(i)}\\in\\pi_j,\\\\ 0 \\text{, inače} \\end{cases}\n",
    "$$\n",
    "kriterijsku funkciju možemo definirati kao\n",
    "$$\n",
    "\\mathcal{F}(\\Pi) = \\sum\\limits_{i=1}^{m}\\sum\\limits_{j=1}^{k}w_{ij}d(c_j,x^{(i)})\n",
    "$$\n",
    "te vrijedi\n",
    "$$\n",
    "\\begin{align}\n",
    "\\sum_{j=1}^k w_{ij} & = 1 \\\\\n",
    "\\sum\\limits_{i=1}^{m}\\sum\\limits_{j=1}^{k}w_{ij} & = m\n",
    "\\end{align}\n",
    "$$\n",
    "Kriterijska funkcija :\n",
    "$$\n",
    "\\Phi(c, W) = \\sum\\limits_{j=1}^k \\sum\\limits_{x^{(i)} \\in \\pi_j} w_{ij}d(c_j, x^{(i)}) \n",
    "$$"
   ]
  },
  {
   "cell_type": "markdown",
   "id": "c3552531",
   "metadata": {},
   "source": [
    "Želimo minimizirati funkcijuju $\\Phi$ po parametrima $\\mu$ i $W$ ($W$ je matrica pripadnosti klasteru)\n",
    "\n",
    "Algoritam\n",
    "1. početni $\\mu_1, \\cdots, \\mu_k$\n",
    "2. Assingment step: određujemo optimalnu matricu $W$\n",
    "2. Update step: ažuriramo parametre $\\mu_1, \\cdots, \\mu_k$ tj. minimiziramo funkciju $\\Phi(\\mu, W)$ po $\\mu$\n",
    "3. ponovi 2. i 3. dok ne iskonvergira"
   ]
  },
  {
   "cell_type": "markdown",
   "id": "d1a7ede8",
   "metadata": {},
   "source": [
    "#### -- Maksimizacija log-likelihood funkcije \n",
    "- $X$ je neprekidna slučajna varijabla sa funkcijom gustoće $f_x$\n",
    "- Vektor slučajnih varijabli $\\mathbb{X} = (X_1,\\cdots,X_n)$ nazivamo slučajnim uzorkom\n",
    "- Često promatramo vektor jednako distribuiranih, nezavisnih slučajnih varijabli (i.i.d.)\n",
    "- Realizaciju $\\mathbb{x} = (x_1,\\cdots,x_n) \\in \\mathbb{R}^n$ slučajnog uzorka $\\mathbb{X}$ nazivamo uzorkom\n",
    "- Pretpostavimo da $\\mathbb{X}$ ovisi o parametrima $\\theta \\in \\mathcal{P}\\subseteq \\mathbb{R}^d$\n",
    "\n",
    "**Funkcije**: \n",
    "  - $x\\mapsto f_x(x,\\theta)$, funkcija gustoće\n",
    "  - $\\theta\\mapsto f_x(x,\\theta)$, funkcija vjerodostojnosti\n",
    "  \n",
    "**Definicija**: Funkcija koja $\\theta\\mapsto \\prod\\limits_{i=1}^m f_x(x_i,\\theta) = L(\\theta,x)$ se zove likelihood/vjerodostojnosna funkcija. \n",
    "\n",
    "Parametar  $\\hat{\\theta} \\in \\mathcal{P}\\subseteq \\mathbb{R}^d$ zovemo procjenitelj u smislu maksimalne vjerodostojnosti ako je $L(\\hat{\\theta},x) = \\max\\limits_{\\theta\\in\\mathcal{P}}{(\\theta,x)}$\n",
    "\n",
    "Uobičajeno je promatrati, umjesto funkcije $L$ njen logaritam: $l(\\theta,x) = \\ln{L(\\theta,x)}$\n",
    "pa onda maksimiziramo $l(\\theta,x) \\rightarrow \\max\\limits_{\\theta\\in\\mathcal{P}}$\n",
    "\n",
    "$$ l(\\theta,x) = \\ln{ \\prod\\limits_{i=1}^m f_x(x_i,\\theta)} = \\sum\\limits_{i=1}^m \\ln{f_x(x_i,\\theta)}$$"
   ]
  },
  {
   "cell_type": "markdown",
   "id": "bc24e094",
   "metadata": {},
   "source": [
    "### Miješane Gaussove distribucije\n",
    "\n",
    "Neka su:\n",
    "- $Y_1 \\sim \\mathcal{N}(\\mu_1, \\sigma_1^2)$, ..., $Y_k \\sim \\mathcal{N}(\\mu_k, \\sigma_k^2)$\n",
    "- neka je $X$ nova slučajna varijabla čija je funkcija gustoće jdnaka konveksnoj kombinaciji funkcija gustoće slučajnih varijabli $Y_1, ..., Y_k$\n",
    " $$f_x(\\theta,x) = \\sum\\limits_{j=1}^k p_j \\frac{1}{\\sigma_j \\sqrt{2\\pi}}e^{\\frac{-(x_i-\\mu_j)^2}{2\\sigma_j^2}}$$\n",
    "- gdje je $\\sum_j p_j = 1$\n",
    "\n",
    "Problem: ako imamo zadane $x_1, \\cdots, x_m$ nezavisne realizacije iz distribucije od $X$ treba procijeniti parametre $\\hat{\\theta} = (\\hat{\\mu_1},  \\hat{\\mu_2}, \\cdots,  \\hat{\\mu_k},  \\hat{\\sigma_1}, \\cdots,  \\hat{\\sigma_k},  \\hat{p_1}, \\cdots,  \\hat{p_k})$\n",
    "\n",
    "- Ponovno, parametar će biit procijenitelj ako maksimizira funkciju $L(\\theta,x)$ što je ekvivalntno maksimizaciji funkcije $l(\\theta,x)$\n",
    "- $\\sum\\limits_{i=1}^m \\ln{(\\sum\\limits_{j=1}^kp_j \\frac{1}{\\sigma_j \\sqrt{2\\pi}}e^{\\frac{-(x_i-\\mu_j)^2}{2\\sigma_j^2}})} \\rightarrow \\max\\limits_{\\mu,\\sigma,p}$  uz uvjet $\\sum_j p_j = 1$\n",
    "- problem uvjetne optimizacije (cjelobrojno programiranje)\n",
    "- možemo riješiti uvođenjem Lagrangeove funkcije\n",
    "- dobijemo rješenja optimizacijskog problema: $\\mu_j, \\sigma_j, p_j$"
   ]
  },
  {
   "cell_type": "markdown",
   "id": "50cbd13a",
   "metadata": {},
   "source": [
    "### EM algoritam\n",
    "\n",
    "1. odabiremo početne $(\\mu_j, \\sigma_j, p_j)$ za $j=1, \\dots, k$\n",
    "2. defniramo $\\gamma_{ij}$ (interpretiramo kao vjerojatnost da podatak $x_i$ dolazi iz $Y_j$)\n",
    "3. računamo nove $(\\mu_j, \\sigma_j, p_j)$\n",
    "4. ponavljamo korak 2. i 3. dok ne dođe do konvergencije"
   ]
  },
  {
   "cell_type": "markdown",
   "id": "3bc6ee29",
   "metadata": {},
   "source": [
    "### Primjer\n",
    "Generirajte skup podataka $X = \\{x_i \\in \\mathbb{R}: i=1,\\dots,10000\\}$ tako da 3000 točaka dolazi iz normalne distribucije s očekivanjem $20$ i i standardnom devijacijom $5$, a ostatak iz normalne distribucije s očekivanjem $40$ i standardnom devijacijom $5$.\n",
    "\n",
    "Prikažite histogram dobivenog skupa podataka (odnosno uzorka).\n",
    "\n",
    "Izračunajte očekivanje i standardnu devijaciju skupa podataka i prikažite graf pripadne funkcije gustoće."
   ]
  },
  {
   "cell_type": "code",
   "execution_count": 4,
   "id": "99618878",
   "metadata": {},
   "outputs": [
    {
     "data": {
      "image/png": "[encoded data removed]",
      "text/plain": [
       "<Figure size 432x288 with 1 Axes>"
      ]
     },
     "metadata": {
      "needs_background": "light"
     },
     "output_type": "display_data"
    }
   ],
   "source": [
    "Y1 = np.random.normal(loc=20, scale=5, size=3000)\n",
    "Y2 = np.random.normal(loc=40, scale=5, size=7000)\n",
    "X = np.concatenate((Y1, Y2))\n",
    "# plot the histogram\n",
    "plt.hist(X, bins=50, density=True)\n",
    "plt.show()"
   ]
  },
  {
   "cell_type": "code",
   "execution_count": 5,
   "id": "0ea264da",
   "metadata": {},
   "outputs": [
    {
     "data": {
      "image/png": "[encoded data removed]",
      "text/plain": [
       "<Figure size 432x288 with 1 Axes>"
      ]
     },
     "metadata": {
      "needs_background": "light"
     },
     "output_type": "display_data"
    }
   ],
   "source": [
    "xx = np.linspace(min(X), max(X), 2000)\n",
    "g_single = stats.norm(np.mean(X), np.std(X)).pdf(xx) # funkcija gustoće normalne distribucije s danim parametrima\n",
    "plt.plot(xx, g_single, label='single gaussian');\n",
    "plt.hist(X, bins=50, density=True)\n",
    "plt.legend();"
   ]
  },
  {
   "cell_type": "code",
   "execution_count": 8,
   "id": "f2ca4db5-2c19-468d-839c-7db7fbf4a4db",
   "metadata": {},
   "outputs": [],
   "source": [
    "def fx(x, p, mu, sigma, k):\n",
    "    \"\"\"Neefikasna implementacija funkcije gustoće mješovite distribucije\n",
    "    \"\"\"\n",
    "    l = 0\n",
    "    for j in range(k):\n",
    "        l += (p[j] / (sigma[j] * np.sqrt(2 * np.pi))) * np.exp(-(x - mu[j])**2 / (2 * sigma[j]**2))\n",
    "    return l"
   ]
  },
  {
   "cell_type": "code",
   "execution_count": 9,
   "id": "702583d4-58c6-4e65-b25d-37dc910deefe",
   "metadata": {},
   "outputs": [
    {
     "data": {
      "image/png": "[encoded data removed]",
      "text/plain": [
       "<Figure size 432x288 with 1 Axes>"
      ]
     },
     "metadata": {
      "needs_background": "light"
     },
     "output_type": "display_data"
    }
   ],
   "source": [
    "xx = np.linspace(min(X), max(X), 2000)\n",
    "p = np.array([0.3, 0.7])\n",
    "mu = np.array([20, 40])\n",
    "sigma = np.array([5, 5])\n",
    "k = 2\n",
    "\n",
    "func = lambda x : fx(x, p, mu, sigma, k)\n",
    "y = func(xx)\n",
    "\n",
    "plt.plot(xx, y, label='mixture model')\n",
    "plt.hist(X, bins=20, density=True)\n",
    "plt.show()"
   ]
  },
  {
   "cell_type": "code",
   "execution_count": 6,
   "id": "97e0556d",
   "metadata": {},
   "outputs": [
    {
     "name": "stdout",
     "output_type": "stream",
     "text": [
      "p: [0.30501194 0.69498806]\n",
      "means: [20.30355261 40.1401183 ]\n",
      "sigma^2: [26.75062704 23.19830396]\n",
      "True\n",
      "3\n",
      "-3.5721458000133834\n"
     ]
    }
   ],
   "source": [
    "model = GaussianMixture(n_components=2, tol=0.001, max_iter=100, n_init=1, init_params='kmeans')\n",
    "model.fit(X.reshape(-1, 1))\n",
    "\n",
    "print(f'p: {model.weights_.squeeze()}')           #tezine svake komponente(ovdje ima dvije komponente)\n",
    "print(f'means: {model.means_.squeeze()}')         #ocekivanje\n",
    "print(f'sigma^2: {model.covariances_.squeeze()}') #srednje kvadraticno odstupanje podatka od srednje vrijednosti\n",
    "                                                  #sigma je devijacija\n",
    "print(model.converged_)                           #boolean - konvergira li model ili ne\n",
    "print(model.n_iter_)                              #broj potrebnih iteracija do konvergencije\n",
    "print(model.lower_bound_)                         #minimum log-likelihood funkcije"
   ]
  },
  {
   "cell_type": "markdown",
   "id": "46d43df5-b1ba-4bee-af3a-30092b9fc36b",
   "metadata": {},
   "source": [
    "### Primjer"
   ]
  },
  {
   "cell_type": "code",
   "execution_count": 13,
   "id": "5de426a3-449d-4896-b036-de64e1e834fe",
   "metadata": {},
   "outputs": [
    {
     "data": {
      "image/png": "[encoded data removed]",
      "text/plain": [
       "<Figure size 432x288 with 1 Axes>"
      ]
     },
     "metadata": {
      "needs_background": "light"
     },
     "output_type": "display_data"
    }
   ],
   "source": [
    "X, y = make_blobs(n_samples=400, centers=4, cluster_std=0.60, random_state=0)\n",
    "plt.scatter(X[:,0], X[:,1])\n",
    "plt.show()"
   ]
  },
  {
   "cell_type": "code",
   "execution_count": 14,
   "id": "b69f8dc4-bfc8-4d81-8b4b-4e7ba9a2f4a5",
   "metadata": {},
   "outputs": [
    {
     "data": {
      "image/png": "[encoded data removed]",
      "text/plain": [
       "<Figure size 432x288 with 1 Axes>"
      ]
     },
     "metadata": {
      "needs_background": "light"
     },
     "output_type": "display_data"
    }
   ],
   "source": [
    "rng = np.random.RandomState(13)\n",
    "X_stretched = np.dot(X, rng.randn(2, 2))\n",
    "plt.scatter(X_stretched[:,0], X_stretched[:,1])\n",
    "plt.show()"
   ]
  },
  {
   "cell_type": "code",
   "execution_count": 15,
   "id": "e105324f-c72d-4e3d-bcfc-096454fff368",
   "metadata": {},
   "outputs": [
    {
     "data": {
      "text/plain": [
       "<matplotlib.collections.PathCollection at 0x1f7f500a800>"
      ]
     },
     "execution_count": 15,
     "metadata": {},
     "output_type": "execute_result"
    },
    {
     "data": {
      "image/png": "[encoded data removed]",
      "text/plain": [
       "<Figure size 432x288 with 1 Axes>"
      ]
     },
     "metadata": {
      "needs_background": "light"
     },
     "output_type": "display_data"
    }
   ],
   "source": [
    "kmeans = KMeans(n_clusters=4).fit(X_stretched)\n",
    "plt.scatter(X_stretched[:, 0], X_stretched[:, 1], c=kmeans.labels_)"
   ]
  },
  {
   "cell_type": "code",
   "execution_count": 16,
   "id": "28a30621-92fc-4c55-a28a-5c216aa5fd93",
   "metadata": {},
   "outputs": [
    {
     "data": {
      "text/html": [
       "<style>#sk-container-id-1 {color: black;background-color: white;}#sk-container-id-1 pre{padding: 0;}#sk-container-id-1 div.sk-toggleable {background-color: white;}#sk-container-id-1 label.sk-toggleable__label {cursor: pointer;display: block;width: 100%;margin-bottom: 0;padding: 0.3em;box-sizing: border-box;text-align: center;}#sk-container-id-1 label.sk-toggleable__label-arrow:before {content: \"▸\";float: left;margin-right: 0.25em;color: #696969;}#sk-container-id-1 label.sk-toggleable__label-arrow:hover:before {color: black;}#sk-container-id-1 div.sk-estimator:hover label.sk-toggleable__label-arrow:before {color: black;}#sk-container-id-1 div.sk-toggleable__content {max-height: 0;max-width: 0;overflow: hidden;text-align: left;background-color: #f0f8ff;}#sk-container-id-1 div.sk-toggleable__content pre {margin: 0.2em;color: black;border-radius: 0.25em;background-color: #f0f8ff;}#sk-container-id-1 input.sk-toggleable__control:checked~div.sk-toggleable__content {max-height: 200px;max-width: 100%;overflow: auto;}#sk-container-id-1 input.sk-toggleable__control:checked~label.sk-toggleable__label-arrow:before {content: \"▾\";}#sk-container-id-1 div.sk-estimator input.sk-toggleable__control:checked~label.sk-toggleable__label {background-color: #d4ebff;}#sk-container-id-1 div.sk-label input.sk-toggleable__control:checked~label.sk-toggleable__label {background-color: #d4ebff;}#sk-container-id-1 input.sk-hidden--visually {border: 0;clip: rect(1px 1px 1px 1px);clip: rect(1px, 1px, 1px, 1px);height: 1px;margin: -1px;overflow: hidden;padding: 0;position: absolute;width: 1px;}#sk-container-id-1 div.sk-estimator {font-family: monospace;background-color: #f0f8ff;border: 1px dotted black;border-radius: 0.25em;box-sizing: border-box;margin-bottom: 0.5em;}#sk-container-id-1 div.sk-estimator:hover {background-color: #d4ebff;}#sk-container-id-1 div.sk-parallel-item::after {content: \"\";width: 100%;border-bottom: 1px solid gray;flex-grow: 1;}#sk-container-id-1 div.sk-label:hover label.sk-toggleable__label {background-color: #d4ebff;}#sk-container-id-1 div.sk-serial::before {content: \"\";position: absolute;border-left: 1px solid gray;box-sizing: border-box;top: 0;bottom: 0;left: 50%;z-index: 0;}#sk-container-id-1 div.sk-serial {display: flex;flex-direction: column;align-items: center;background-color: white;padding-right: 0.2em;padding-left: 0.2em;position: relative;}#sk-container-id-1 div.sk-item {position: relative;z-index: 1;}#sk-container-id-1 div.sk-parallel {display: flex;align-items: stretch;justify-content: center;background-color: white;position: relative;}#sk-container-id-1 div.sk-item::before, #sk-container-id-1 div.sk-parallel-item::before {content: \"\";position: absolute;border-left: 1px solid gray;box-sizing: border-box;top: 0;bottom: 0;left: 50%;z-index: -1;}#sk-container-id-1 div.sk-parallel-item {display: flex;flex-direction: column;z-index: 1;position: relative;background-color: white;}#sk-container-id-1 div.sk-parallel-item:first-child::after {align-self: flex-end;width: 50%;}#sk-container-id-1 div.sk-parallel-item:last-child::after {align-self: flex-start;width: 50%;}#sk-container-id-1 div.sk-parallel-item:only-child::after {width: 0;}#sk-container-id-1 div.sk-dashed-wrapped {border: 1px dashed gray;margin: 0 0.4em 0.5em 0.4em;box-sizing: border-box;padding-bottom: 0.4em;background-color: white;}#sk-container-id-1 div.sk-label label {font-family: monospace;font-weight: bold;display: inline-block;line-height: 1.2em;}#sk-container-id-1 div.sk-label-container {text-align: center;}#sk-container-id-1 div.sk-container {/* jupyter's `normalize.less` sets `[hidden] { display: none; }` but bootstrap.min.css set `[hidden] { display: none !important; }` so we also need the `!important` here to be able to override the default hidden behavior on the sphinx rendered scikit-learn.org. See: https://github.com/scikit-learn/scikit-learn/issues/21755 */display: inline-block !important;position: relative;}#sk-container-id-1 div.sk-text-repr-fallback {display: none;}</style><div id=\"sk-container-id-1\" class=\"sk-top-container\"><div class=\"sk-text-repr-fallback\"><pre>GaussianMixture(max_iter=200, n_components=4)</pre><b>In a Jupyter environment, please rerun this cell to show the HTML representation or trust the notebook. <br />On GitHub, the HTML representation is unable to render, please try loading this page with nbviewer.org.</b></div><div class=\"sk-container\" hidden><div class=\"sk-item\"><div class=\"sk-estimator sk-toggleable\"><input class=\"sk-toggleable__control sk-hidden--visually\" id=\"sk-estimator-id-1\" type=\"checkbox\" checked><label for=\"sk-estimator-id-1\" class=\"sk-toggleable__label sk-toggleable__label-arrow\">GaussianMixture</label><div class=\"sk-toggleable__content\"><pre>GaussianMixture(max_iter=200, n_components=4)</pre></div></div></div></div></div>"
      ],
      "text/plain": [
       "GaussianMixture(max_iter=200, n_components=4)"
      ]
     },
     "execution_count": 16,
     "metadata": {},
     "output_type": "execute_result"
    }
   ],
   "source": [
    "model = GaussianMixture(n_components=4, tol=0.001, max_iter=200, n_init=1, init_params='kmeans')\n",
    "model.fit(X_stretched)"
   ]
  },
  {
   "cell_type": "code",
   "execution_count": 17,
   "id": "655c9a53-6bb7-4e38-ad7d-7273e42a4796",
   "metadata": {},
   "outputs": [
    {
     "data": {
      "text/plain": [
       "<matplotlib.collections.PathCollection at 0x1f7f4fe12d0>"
      ]
     },
     "execution_count": 17,
     "metadata": {},
     "output_type": "execute_result"
    },
    {
     "data": {
      "image/png": "[encoded data removed]",
      "text/plain": [
       "<Figure size 432x288 with 1 Axes>"
      ]
     },
     "metadata": {
      "needs_background": "light"
     },
     "output_type": "display_data"
    }
   ],
   "source": [
    "proba = model.predict_proba(X_stretched)\n",
    "y_pred = proba.argmax(axis=1)\n",
    "plt.scatter(X_stretched[:,0], X_stretched[:,1], c=y_pred)"
   ]
  },
  {
   "cell_type": "markdown",
   "id": "cdaec12c-d8e7-4ff6-a13e-53f0fb7640f4",
   "metadata": {},
   "source": [
    "## FUCKING RNN"
   ]
  },
  {
   "cell_type": "markdown",
   "id": "b3c739e9-c9df-4c91-8a8c-746dec995372",
   "metadata": {},
   "source": [
    "### Arhitektura mreže\n",
    "\n",
    "- RNN u Torchu možemo jednostavno složiti poput feed-forward mreže kakvu smo imali ranije\n",
    "- Arhitektura se sastoji od\n",
    "    - 2 linearna sloja (ulaz i hidden)\n",
    "    - LogSoftmax na izlaznom sloju\n",
    "    \n",
    "Za slaganje mreže opet koristimo `Module` kontejner iz `torch.nn`:\n",
    "  - Bazna klasa za sve neuronske mreže\n",
    "  - Klasa u kojoj definiramo model nasljeđuje ovu klasu\n",
    "  - Obavezno moramo definirati metode: `__init__` i `forward`"
   ]
  },
  {
   "cell_type": "code",
   "execution_count": null,
   "id": "10d3b990-281b-4d31-a3ac-9d7734565ddb",
   "metadata": {},
   "outputs": [],
   "source": [
    "class ClassifierRNN(nn.Module):\n",
    "    def __init__(self, input_size, hidden_size, output_size):\n",
    "        super(ClassifierRNN, self).__init__()\n",
    "\n",
    "        self.hidden_size = hidden_size\n",
    "\n",
    "        self.i2h = nn.Linear(input_size + hidden_size, hidden_size)\n",
    "        self.i2o = nn.Linear(input_size + hidden_size, output_size)\n",
    "        self.softmax = nn.LogSoftmax(dim=1)\n",
    "\n",
    "    def forward(self, input, hidden):\n",
    "        combined = torch.cat((input, hidden), 1)\n",
    "        hidden = self.i2h(combined)\n",
    "        output = self.i2o(combined)\n",
    "        output = self.softmax(output)\n",
    "        return output, hidden\n",
    "\n",
    "    def init_hidden(self):\n",
    "        return torch.zeros(1, self.hidden_size)\n",
    "\n",
    "n_hidden = 128\n",
    "rnn_model = ClassifierRNN(n_letters, n_hidden, n_categories)"
   ]
  },
  {
   "cell_type": "markdown",
   "id": "f667b59b-72c5-4939-990c-b327ecae5df6",
   "metadata": {},
   "source": [
    "Kako bismo napravili jedan korak (prolazak) kroz mrežu, trebamo joj proslijediti ulazni podatak. \n",
    "\n",
    "U našem slučaju ulazni podatak je tenzor koji sadrži jedno slovo i prethodno skriveno stanje.\n",
    "\n",
    "U prvom prolazu za prethodno skriveno stanje postavljamo 0.\n",
    "\n",
    "`input = letter_to_tensor('c')` <br>\n",
    "`hidden = torch.zeros(1, n_hidden)`  (jedinice su dimenzije n_hidden) <br>\n",
    "`output, next_hidden = rnn(input, hidden)` <br> "
   ]
  },
  {
   "cell_type": "code",
   "execution_count": null,
   "id": "b96d9f5b-cd1c-4a8c-8966-30898e35fd84",
   "metadata": {},
   "outputs": [],
   "source": [
    "input = letter_to_tensor('c')\n",
    "hidden = torch.zeros(1, n_hidden) #početno skriveno stanje\n",
    "output, next_hidden = rnn_model(input, hidden)\n",
    "print(f'output = \\n{output}\\nnext_hidden = \\n{next_hidden}')"
   ]
  },
  {
   "cell_type": "code",
   "execution_count": null,
   "id": "f4a6c00d-0210-4ff7-a737-5d6051460e63",
   "metadata": {},
   "outputs": [],
   "source": [
    "input = line_to_tensor('Albert')\n",
    "hidden = torch.zeros(1, n_hidden)\n",
    "\n",
    "output, next_hidden = rnn_model(input[0], hidden)\n",
    "print(f'output = \\n{output}\\nnext_hidden = \\n{next_hidden}')"
   ]
  }
 ],
 "metadata": {
  "kernelspec": {
   "display_name": "Python 3 (ipykernel)",
   "language": "python",
   "name": "python3"
  },
  "language_info": {
   "codemirror_mode": {
    "name": "ipython",
    "version": 3
   },
   "file_extension": ".py",
   "mimetype": "text/x-python",
   "name": "python",
   "nbconvert_exporter": "python",
   "pygments_lexer": "ipython3",
   "version": "3.10.5"
  }
 },
 "nbformat": 4,
 "nbformat_minor": 5
}
