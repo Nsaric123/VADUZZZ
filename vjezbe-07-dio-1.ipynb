{
 "cells": [
  {
   "cell_type": "markdown",
   "id": "e1b7fd06-7135-4826-aa59-b4ee5d71b020",
   "metadata": {},
   "source": [
    "# Vježbe 7 - prvi dio\n",
    "## Priprema za kolokvij\n",
    "---"
   ]
  },
  {
   "cell_type": "code",
   "execution_count": null,
   "id": "3d1fe7f2-06d6-4155-8821-decd625ec756",
   "metadata": {},
   "outputs": [],
   "source": [
    "import numpy as np\n",
    "import matplotlib.pyplot as plt\n",
    "from sklearn.linear_model import LinearRegression, LogisticRegression\n",
    "from sklearn.metrics import accuracy_score, precision_score, recall_score, confusion_matrix\n",
    "from sklearn.svm import LinearSVC\n",
    "from sklearn.model_selection import train_test_split\n",
    "from sklearn.preprocessing import StandardScaler"
   ]
  },
  {
   "cell_type": "markdown",
   "id": "5c245c30-9638-499a-a6fc-af373360f8dc",
   "metadata": {},
   "source": [
    "# Zadatak 1 - Linearna regresija\n",
    "\n",
    "1. Zapišite kako izgleda optimizacijski problem kod modela linearne regresije. Taj optimizacijski problem se može riješiti gradijentnom metodom. Napišite pseudokod gradijentne metode.\n",
    "\n",
    "2. Raspolažemo s podacima o stanovima - površina, broj soba i cijena. Želimo pomoću modela linearne regresije predviđati cijenu stanova na temelju površine i broja soba.  \n",
    "    1. Za zadana četiri podatka napišite kako bi izgledala matrica dizajna.Podaci: \n",
    "        - $(x^{(1)}) = (120m^2, 3),  y^{(1)}=( 140000)$, \n",
    "        - $(x^{(2)}) = (60m^2, 2), y^{(2)}=( 70000),$\n",
    "        - $( x^{(3)}) = (200m^2, 5),  y^{(3)}=( 19000),$\n",
    "        - $(x^{(4)}) = (130m^2, 5), y^{(4)}=( 100000)$\n",
    "    2. Napišite kako bi za ovaj primjer izgledala model funkcija $h_{\\theta}(x)$\n",
    "    3. Neka su zadana dva seta parametara $\\theta_1 = [129e3, -561, 643e1]$ i $\\theta_2 = [-50e2, 561, 100]$. Koji od ta dva seta parametara bolje opisuje naše podatke. \n",
    "    \n",
    "3. Zadani su vam podaci `z1.txt` i kod za učitavanje te grafički prikaz podataka. Očito je model funkcija za ove podatke polinom višeg stupnja. Zapišite tu model funkciju te zapišite kako izgleda kada ju svedemo na polinom prvog stupnja.\n",
    "\n",
    "4. Napravite odgovarajuću matricu dizajna za prethodno navedeni model linearne regresije. Koristeći ugrađenu linearnu regresiju `LinearRegression()` iz paketa `scikit-learn` naučite taj model. Ispišite dobivene koeficijente. \n",
    "\n",
    "Napomena: Pazite na parametar `fit_intercept`. "
   ]
  },
  {
   "cell_type": "markdown",
   "id": "8e78e194-75db-4454-99b4-1a80b560e8f4",
   "metadata": {},
   "source": [
    "## Rješenje"
   ]
  },
  {
   "cell_type": "markdown",
   "id": "9f5e869f-9044-4d00-83dc-85cc0807f408",
   "metadata": {},
   "source": [
    "### Podzadatak 1\n",
    "U modelu linearne regresije su zadani podaci $(x^{(i)}, y^{(i)}), i=1,\\dots,m$, gdje je $x^{(i)} \\in \\mathbb{R}^n$ i $y^{(i)} \\in \\mathbb{R}$ za $i=1,\\dots,m$. \n",
    "\n",
    "Model funkcija $h_{\\theta} : \\mathbb{R}^n \\to \\mathbb{R}$ je zadana s $h_{\\theta}(x) = \\theta_0 + \\theta_1x_1 + \\theta_2x_2 + \\dots + \\theta_nx_n$. \n",
    "\n",
    "Funkcija cilja koju je potrebno minimizirati je zadana s\n",
    "$$\n",
    "J(\\theta) = \\frac{1}{2m}\\sum_{i=1}^m(y^{(i)} - h_{\\theta}(x^{(i)}))^2,\n",
    "$$\n",
    "\n",
    "Pseudokod gradijentne metode je sljedeći:\n",
    "\n",
    "ULAZ: podaci $x^{(i)}, y^{(i)}, i=1,\\dots,m$\n",
    "1. odaberi proizvoljan $\\theta^{(0)} \\in \\mathbb{R}^{n+1}$\n",
    "2. odaberi proizvoljnu duljinu koraka $\\alpha > 0$.\n",
    "3. postavi $k=0$\n",
    "4. ukoliko je model konvergirao, **vrati** $\\theta^k$ (npr. $||\\nabla{}J(\\theta^{(k)})|| < \\epsilon$ ili $k \\geq k_{max}$)\n",
    "5. postavi $\\theta^{(k+1)} = \\theta^{(k)} - \\alpha{}\\nabla{}J(\\theta^{(k)})$\n",
    "6. postavi $k = k + 1$\n",
    "7. idi na korak 2."
   ]
  },
  {
   "cell_type": "markdown",
   "id": "edddacf4-9afb-45f1-a0ac-a5c3b04e50e5",
   "metadata": {},
   "source": [
    "### Podzadatak 2"
   ]
  },
  {
   "cell_type": "code",
   "execution_count": null,
   "id": "11c887dd-e620-42b3-b9a8-0f4ca1fddda5",
   "metadata": {},
   "outputs": [],
   "source": [
    "# A)\n",
    "# Matrica dizajna X je dana s\n",
    "X = np.array([[1, 120, 3], [1, 60, 2], [1, 200, 5], [1, 130, 5]])\n",
    "y = np.array([140000, 70000, 19000, 100000])\n",
    "\n",
    "# B)\n",
    "# h_theta(x) = x[0]*theta[0] + x[1]*theta[1] + x[2]*theta[2], gdje je x[0]==1\n",
    "def h(theta, X):\n",
    "    return np.dot(X, theta)\n",
    "\n",
    "# C)\n",
    "# Izracunat cemo J(theta_1) i J(theta_2)\n",
    "def J(theta, X, y):\n",
    "    m = X.shape[0]\n",
    "    return np.sum(np.square(y - h(theta, X))) / (2 * m)\n",
    "\n",
    "theta_1 = np.array([129e3, -561, 643e1])\n",
    "theta_2 = np.array([-50e2, 561, 100])\n",
    "\n",
    "print(f'J(theta_1) = {J(theta_1, X, y)}')\n",
    "print(f'J(theta_2) = {J(theta_2, X, y)}')"
   ]
  },
  {
   "cell_type": "markdown",
   "id": "9e7947df-6cc5-49f6-83e3-206bc1ae9cdc",
   "metadata": {},
   "source": [
    "### Podzadatak 3 i 4\n",
    "Model funkcija (u smislu polinomne regresije) kvadratna funkcija zadana s $h_{\\theta}(x) = \\theta_0 + \\theta_1x + \\theta_2x^2$.\n",
    "\n",
    "Umjesto člana $x^2$ uvodimo novu varijablu i dobivamo novu model funkciju\n",
    "$$\n",
    "h_{\\theta}(x_1, x_2) = \\theta_0 + \\theta_1x_1 + \\theta_2x_2,\n",
    "$$\n",
    "gdje je $x_2 = x_1^2$."
   ]
  },
  {
   "cell_type": "code",
   "execution_count": null,
   "id": "7aa6f3a5-fcac-4a10-8e0c-5cf267237d0f",
   "metadata": {},
   "outputs": [],
   "source": [
    "data = np.loadtxt('./Podaci/z1.txt')\n",
    "X = data[:, 0]\n",
    "y = data[:, 1]\n",
    "plt.scatter(X,y)\n",
    "\n",
    "# X_linear je matrica dizajna za linearni problem\n",
    "X_linear = np.array([[1, x, x**2] for x in X])\n",
    "\n",
    "model = LinearRegression(fit_intercept=False)\n",
    "model.fit(X_linear, y)\n",
    "print(f'Koeficijenti modela: {model.coef_}')\n",
    "\n",
    "xx = np.linspace(np.min(X) - 1, np.max(X) + 1)\n",
    "xx_matrica_dizajna = np.array([[1.0, x, x**2] for x in xx])\n",
    "yy = model.predict(xx_matrica_dizajna)\n",
    "plt.plot(xx, yy)\n",
    "plt.show()"
   ]
  },
  {
   "cell_type": "markdown",
   "id": "66ca53f0-5345-4bea-af51-f780e8a8e288",
   "metadata": {},
   "source": [
    "# Zadatak 2 - Perceptron\n",
    "\n",
    "1. Zadan vam je model perceptrona sa parametrima $\\theta =[\\theta_0, \\theta_1 ,\\theta_2]^T = [-20, 1, -4]^T$.\n",
    "Nacrtajte klasifikacijsku hiperravninu definiranu ovim parametrima i odredite klasificira li ispravno ovaj model podatke \n",
    "$$\n",
    "X= [(5,-6), (3,-3), (2,-8), (4,-2), (3,-2), (3,-6),(1,-6),(1,-1)]\n",
    "$$ \n",
    "sa pripadnim oznakama klasa\n",
    "$$\n",
    "y = [1,-1, 1, -1, 1, 1, 1, -1].\n",
    "$$\n",
    "\n",
    "2. Neka su zadani podaci $x^{(i)} \\in \\mathbb{R}^n, i=1, \\cdots, m$ i njihove oznake $y^{(i)} \\in \\{-1,1\\},  i=1, \\cdots, m$. Pretpostavimo da su podaci linearno separabilni. Napišite kako izgleda jedan korak ažuriranja parametara $\\theta$ u perceptron algoritmu. <br> Znamo kako perceptron algoritam iterira redom po podacima, hoće li u svakoj iteraciji ažurirati parametre? "
   ]
  },
  {
   "cell_type": "markdown",
   "id": "ba6c13ee-b47a-4b5d-8d31-ef57525ab503",
   "metadata": {},
   "source": [
    "## Rješenje\n",
    "### Podzadatak 1"
   ]
  },
  {
   "cell_type": "code",
   "execution_count": null,
   "id": "1df30e3b-9be3-4980-ba34-fc9b7b3cb634",
   "metadata": {},
   "outputs": [],
   "source": [
    "theta = np.array([-20,1,-4])\n",
    "X = np.array([[5,-6],[3,-3],[2,-8],[4,-2],[3,-2],[3,-6],[1,-6],[1,-1]])\n",
    "y = np.array([1,-1,1,-1,1,1,1,-1])\n",
    "# -------------------------------------------------------------\n",
    "\n",
    "def h(theta, X):\n",
    "    return np.sign(theta[0] + np.dot(X, theta[1:]))\n",
    "\n",
    "print(f'h(x) = {h(theta, X)}')\n",
    "print(f'y =    {y}')\n",
    "\n",
    "# Uočavamo da model nije dobro klasificirao podatke\n",
    "# h(X[4]) != y[4]\n",
    "# Probajmo sve to nacrtati\n",
    "\n",
    "xx = np.linspace(np.min(X[:, 0]) - 1, np.max(X[:, 0]) + 1)\n",
    "yy = -(theta[0]/theta[2]) - (theta[1]/theta[2]) * xx\n",
    "plt.plot(xx, yy)\n",
    "plt.xlim([np.min(X[:, 0]) - 1, np.max(X[:, 0]) + 1])\n",
    "plt.scatter(X[:, 0], X[:, 1], color=['r' if yy == 1 else 'b' for yy in y])"
   ]
  },
  {
   "cell_type": "markdown",
   "id": "409a4d1f-fcf9-418d-8823-155301c23bca",
   "metadata": {},
   "source": [
    "### Podzadatak 2\n",
    "U perceptron algoritmu ažuriranje se radi ako vrijedi $y^{(i)}\\theta^Tx^{(i)} < 0$ za neki $i$.\n",
    "\n",
    "Ažuriranje je oblika $\\theta^{(k)} = \\theta^{(k-1)} + y^{(i)}x^{(i)}$.\n",
    "\n",
    "Ažuriranje se **neće** raditi u svakoj iteraciji, nego samo za podatke za koje vrijedi $y^{(i)}\\theta^Tx^{(i)} < 0$."
   ]
  },
  {
   "cell_type": "markdown",
   "id": "c9407568-44d3-4979-a304-f3cdc3faa062",
   "metadata": {},
   "source": [
    "# Zadatak 3 - SVM\n",
    "\n",
    "1. Neka su zadani podaci $x^{(i)} \\in \\mathbb{R}^n, i=1, \\cdots, m$ i pripadne oznake $y^{(i)} \\in \\{-1,1\\},  i=1, \\cdots, m$. Podaci nisu nužno linearno separabilni. Napišite kako izgleda problem maksimizacije margine. \n",
    "\n",
    "2. Na slici (1) imate grafički prikaz linearno separabilnih podataka i dva pravca koja separiraju te podatke. \"Plavi pravac\" koji je definiran setom parametara $\\theta_1$ i narančasti pravac definiran setom parametara $\\theta_2$. Koji od ta dva seta parametara (koji od ta dva pravca) bi SVM algoritam pronašao?\n",
    "\n",
    "1. Zadani su vam podaci `Podaci-z3-X` i `Podaci-z3-y` i kod za učitavanje te grafički prikaz podataka. <br> Podatke klasificiramo koristeći SVM algoritam. <br> U `scikit-learn` paketu je ugrađena klasa `LinearSVC` koja implementira SVM algoritam.  \n",
    "    - Instancirajte četiri modela i naučite ih na zadanim podacima\n",
    "    - Neka `max_iter` bude `12000` na svim modelima\n",
    "    - `model_A` neka ima `C=3`\n",
    "    - `model_B` neka ima `C=0.8`\n",
    "    - `model_C` neka ima `C=0.5`\n",
    "    - `model_D` neka ima `C=0.1`\n",
    "    - Za svaki model ispišite koliko je koraka algoritmu trebalo prije nego izkonvergira. \n",
    "    - Interpretirajte što se događa kada u modelu smanjujete `C`\n",
    "    \n",
    "Pomoć:\n",
    "- `LinearSVC` ima parametar `max_iter` koji definira koliko će najviše iteracija algoritam izvršiti. Pretpostavljane vrijednost je 100. Ukoliko je potrebno `max_iter` se stavi veću vrijednost kako bi algoritam konvergirao.  \n",
    "- Parametar `C` je obrnuto proporcionalan regularizacijskom koeficijentu $\\lambda$. \n",
    "    "
   ]
  },
  {
   "cell_type": "markdown",
   "id": "9ea79f63-5c76-43f7-80af-8cde14dd7072",
   "metadata": {},
   "source": [
    "## Rješenje\n",
    "### Podzadatak 1\n",
    "Problem maksimizacije margine je zadan s\n",
    "$$\n",
    "\\textrm{argmin}_{\\theta \\in \\mathbb{R}^{n}, \\theta_0 \\in \\mathbb{R}}\\frac{1}{2}||\\theta||^2 + C\\sum_{i=1}^m\\zeta_i\n",
    "$$\n",
    "uz uvjete\n",
    "$$\n",
    "y^{(i)}(\\theta^Tx^{(i)} + \\theta_0) \\geq 1 - \\zeta_i \\\\\n",
    "\\zeta_i \\geq 0, i = 1, \\dots, m\n",
    "$$"
   ]
  },
  {
   "cell_type": "markdown",
   "id": "c8eb8b86-33c2-4cfb-81c1-dc5491891299",
   "metadata": {},
   "source": [
    "### Podzadatak 2\n",
    "<img src=\"./zadatak_3.png\">"
   ]
  },
  {
   "cell_type": "markdown",
   "id": "3c86e8ad-5f8e-4e04-aed6-7cf747c97010",
   "metadata": {},
   "source": [
    "### Podzadatak 3\n",
    "Smanjivanjem parametra C jačamo regularizaciju, a model brže konvergira."
   ]
  },
  {
   "cell_type": "code",
   "execution_count": null,
   "id": "1a15f92e-d3fe-4f18-9d2e-1bd603634935",
   "metadata": {},
   "outputs": [],
   "source": [
    "X = np.loadtxt('./Podaci/z3-X.txt')\n",
    "y = np.loadtxt('./Podaci/z3-y.txt')\n",
    "plt.scatter(X[:,0], X[:,1], c=y)\n",
    "plt.show()\n",
    "# -------------------------------------------------------------\n",
    "\n",
    "model_A = LinearSVC(max_iter=12000, C=3)\n",
    "model_A.fit(X, y)\n",
    "\n",
    "model_B = LinearSVC(max_iter=12000, C=0.8)\n",
    "model_B.fit(X, y)\n",
    "\n",
    "model_C = LinearSVC(max_iter=12000, C=0.5)\n",
    "model_C.fit(X, y)\n",
    "\n",
    "model_D = LinearSVC(max_iter=12000, C=0.1)\n",
    "model_D.fit(X, y)\n",
    "\n",
    "print(f'Model A je konvergirao nakon {model_A.n_iter_} iteracija')\n",
    "print(f'Model B je konvergirao nakon {model_B.n_iter_} iteracija')\n",
    "print(f'Model C je konvergirao nakon {model_C.n_iter_} iteracija')\n",
    "print(f'Model D je konvergirao nakon {model_D.n_iter_} iteracija')\n",
    "\n",
    "print(f'Accuracy modela A na trening podacima je {accuracy_score(y, model_A.predict(X))}')\n",
    "print(f'Accuracy modela B na trening podacima je {accuracy_score(y, model_B.predict(X))}')\n",
    "print(f'Accuracy modela C na trening podacima je {accuracy_score(y, model_C.predict(X))}')\n",
    "print(f'Accuracy modela D na trening podacima je {accuracy_score(y, model_D.predict(X))}')\n",
    "\n",
    "print(f'Precision modela A na trening podacima je {precision_score(y, model_A.predict(X))}')\n",
    "print(f'Precision modela B na trening podacima je {precision_score(y, model_B.predict(X))}')\n",
    "print(f'Precision modela C na trening podacima je {precision_score(y, model_C.predict(X))}')\n",
    "print(f'Precision modela D na trening podacima je {precision_score(y, model_D.predict(X))}')"
   ]
  },
  {
   "cell_type": "markdown",
   "id": "51b15d97-1605-44c6-a45a-54e4feba6dd8",
   "metadata": {},
   "source": [
    "# Zadatak 4 - Logistička regresija \n",
    "1. Promotrimo model logističke regresije u kojem podatke $x\\in\\mathbb{R}$ želimo svrstati u jednu od dvije klase $\\{0,1\\}$, a model funkcija je zadana sa $$ h_{\\theta}(x) = \\frac{1}{1+\\exp{(-\\theta^T x)}} $$ gdje su $\\theta = [\\theta_0, \\theta_1]$, $x\\in\\mathbb{R}$. <br>\n",
    "Neka su nam zadana tri podatka koja imaju jedno obilježje i pripadnu oznaku:\n",
    "- $x^{(1)} = -1 ,y^{(1)}=0$,\n",
    "- $x^{(2)}=0,y^{(2)}=1$,\n",
    "- $x^{(3)}=1, y^{(3)}=0$.\n",
    "\n",
    "Neka su nam zadana dva seta parametara $\\theta^{(1)}$ i $\\theta^{(2)}$ koji onda definiraju funkcije \n",
    "$  g_1(x) = \\frac{1}{1+ \\exp{(-{\\theta^{(1)}}^T x)}} $ i\n",
    "$  g_2(x) = \\frac{1}{1+ \\exp{(-{\\theta^{(2)}}^T x)}} $. <br> Prikazan je graf funkcija $g_1,g_2$ u ovisnosti o $x$.  <br>\n",
    "<br>\n",
    "- Koliki je broj pogrešno klasificiranih podataka s obzirom na $\\theta^{(1)}$, koliko s obzirom na $\\theta^{(2)}$? \n",
    "\n",
    "<img src=\"./zadatak_4.png\">"
   ]
  },
  {
   "cell_type": "markdown",
   "id": "707efe2f-8fb6-44b6-96b3-f1eaa922e698",
   "metadata": {},
   "source": [
    "## Rješenje \n",
    "U modelu logističke regresije postavljamo $\\hat{y} = 1$ ukoliko je $h_\\theta(x) \\geq 0.5$ i $\\hat{y} = 0$ ukoliko je $h_\\theta(x) < 0.5$.\n",
    "\n",
    "Za $\\theta^{(1)}$ vrijedi:\n",
    "1. $h_{\\theta}(x^{(1)}) = 0.3 \\implies \\hat{y}^{(1)} = 0$\n",
    "2. $h_{\\theta}(x^{(2)}) = 0.3 \\implies \\hat{y}^{(2)} = 0$\n",
    "3. $h_{\\theta}(x^{(3)}) = 0.3 \\implies \\hat{y}^{(3)} = 0$,\n",
    "\n",
    "što znači da je su dva podatka dobro klasificirana i jedan pogrešno.\n",
    "\n",
    "Za $\\theta^{(2)}$ vrijedi:\n",
    "1. $h_{\\theta}(x^{(1)}) < 0.5 \\implies \\hat{y}^{(1)} = 0$\n",
    "2. $h_{\\theta}(x^{(2)}) = 0.5 \\implies \\hat{y}^{(2)} = 1$\n",
    "3. $h_{\\theta}(x^{(3)}) > 0.5 \\implies \\hat{y}^{(3)} = 1$,\n",
    "\n",
    "što znači da je su dva podatka dobro klasificirana i jedan pogrešno."
   ]
  },
  {
   "cell_type": "markdown",
   "id": "4b028f36-bac3-48e3-9a3f-dbec8630f704",
   "metadata": {},
   "source": [
    "# Zadatak 5 - Logistička regresija\n",
    "\n",
    "Zadani su vam podaci`z5-X`, `z5-y` i kod za učitavanje te podjelu podataka u skupove za učenje i testiranje.\n",
    "\n",
    "Podaci imaju $8$ značajki i pripadne oznake $y\\in{0,1}$\n",
    "\n",
    "Vaš je zadatak napraviti binarni klasifikator koristeći ugrađenu `sklearn.LogisticRegression()`. \n",
    "1. Napravite sljedeće:\n",
    "    1. Napravite `model_A` kao `LogisticRegression(C=1)`\n",
    "    2. Naučite ga na podacim `x_train, y_train`\n",
    "    2. Ispišite `accuracy_score()` na `x_train` podacima\n",
    "    4. Ispišite `accuracy_score(), recall_score(), precision_score()` na `x_test` podacima\n",
    "    \n",
    "2. Napravite sljedeće:\n",
    "    1. Napravite `model_B` kao `LogisticRegression(C=0.2)`\n",
    "    2. Naučite ga na podacim `x_train, y_train`\n",
    "    2. Ispišite `accuracy_score()` na `x_train` podacima\n",
    "    4. Ispišite `accuracy_score(), recall_score(), precision_score()` na `x_test` podacima\n",
    "    \n",
    "3. Odgovorite na sljedeća pitanja koja se odnose na metrike dobivene za `x_test`:\n",
    "    1. Koji model ima veći broj točno klaficiranih podataka? \n",
    "    2. Koji model ima veću sklonost negativne (0) podatke klasificirati kao pozitivne (1)?"
   ]
  },
  {
   "cell_type": "code",
   "execution_count": null,
   "id": "85b35dfc-4617-4b3a-aa5c-28cb26b28e86",
   "metadata": {},
   "outputs": [],
   "source": [
    "# -------------------------------------------------------------\n",
    "# Kod za ucitavanje \n",
    "X = np.loadtxt('./Podaci/z5-X.txt')\n",
    "y = np.loadtxt('./Podaci/z5-y.txt')\n",
    "\n",
    "X_train, X_test, y_train, y_test = train_test_split(X,y, test_size=0.1, random_state=2)\n",
    "# -------------------------------------------------------------\n",
    "# scaler = StandardScaler()\n",
    "# scaler.fit(X_train)\n",
    "# X_train = scaler.transform(X_train)\n",
    "# X_test = scaler.transform(X_test)"
   ]
  },
  {
   "cell_type": "markdown",
   "id": "1807c6bc-3e0d-4ffb-a475-77b519214146",
   "metadata": {},
   "source": [
    "## Rješenje\n",
    "### Podzadatak 1"
   ]
  },
  {
   "cell_type": "code",
   "execution_count": null,
   "id": "d9b22632-4307-41e0-8834-1fcbbecc352c",
   "metadata": {},
   "outputs": [],
   "source": [
    "model_A = LogisticRegression(C=1)\n",
    "model_A.fit(X_train, y_train)\n",
    "\n",
    "print('--- MODEL A ---')\n",
    "pred_train = model_A.predict(X_train)\n",
    "print(f'Accuracy na train podatcima: {accuracy_score(y_train, pred_train)}')\n",
    "\n",
    "pred_test = model_A.predict(X_test)\n",
    "print(f'Accuracy na test podatcima: {accuracy_score(y_test, pred_test)}')\n",
    "print(f'Recall na test podatcima: {recall_score(y_test, pred_test)}')\n",
    "print(f'Precision na test podatcima: {precision_score(y_test, pred_test)}')\n",
    "print(f'Matrica zabune:\\n{confusion_matrix(y_test, pred_test)}')"
   ]
  },
  {
   "cell_type": "markdown",
   "id": "61ac0c4a-bf9d-4e08-9fdb-bee41d59705a",
   "metadata": {},
   "source": [
    "### Podzadatak 2"
   ]
  },
  {
   "cell_type": "code",
   "execution_count": null,
   "id": "6f2246e2-4cae-43e4-9d4c-7c77aa768897",
   "metadata": {},
   "outputs": [],
   "source": [
    "model_B = LogisticRegression(C=0.2)\n",
    "model_B.fit(X_train, y_train)\n",
    "\n",
    "print('--- MODEL B ---')\n",
    "pred_train = model_B.predict(X_train)\n",
    "print(f'Accuracy na train podatcima: {accuracy_score(y_train, pred_train)}')\n",
    "\n",
    "pred_test = model_B.predict(X_test)\n",
    "print(f'Accuracy na test podatcima: {accuracy_score(y_test, pred_test)}')\n",
    "print(f'Recall na test podatcima: {recall_score(y_test, pred_test)}')\n",
    "print(f'Precision na test podatcima: {precision_score(y_test, pred_test)}')\n",
    "print(f'Matrica zabune:\\n{confusion_matrix(y_test, pred_test)}')"
   ]
  },
  {
   "cell_type": "markdown",
   "id": "d9335736-f084-4895-bfe0-5c592e4b198e",
   "metadata": {},
   "source": [
    "### Podzadatak 3\n",
    "\n",
    "Modeli daju jednake rezultate i jednako su skloni negativne podatke klasificirati kao pozitivne."
   ]
  }
 ],
 "metadata": {
  "kernelspec": {
   "display_name": "Python 3 (ipykernel)",
   "language": "python",
   "name": "python3"
  },
  "language_info": {
   "codemirror_mode": {
    "name": "ipython",
    "version": 3
   },
   "file_extension": ".py",
   "mimetype": "text/x-python",
   "name": "python",
   "nbconvert_exporter": "python",
   "pygments_lexer": "ipython3",
   "version": "3.9.2"
  }
 },
 "nbformat": 4,
 "nbformat_minor": 5
}
